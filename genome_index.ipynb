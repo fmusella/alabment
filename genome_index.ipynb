{
 "cells": [
  {
   "cell_type": "code",
   "execution_count": 1,
   "metadata": {},
   "outputs": [],
   "source": [
    "import numpy as np\n",
    "import pandas as pd\n",
    "from alabtools.analysis import HssFile"
   ]
  },
  {
   "cell_type": "code",
   "execution_count": 2,
   "metadata": {},
   "outputs": [],
   "source": [
    "hss = HssFile('igm-model_mcrb_2.5MB.hss', 'r')"
   ]
  },
  {
   "cell_type": "code",
   "execution_count": 3,
   "metadata": {},
   "outputs": [
    {
     "name": "stdout",
     "output_type": "stream",
     "text": [
      "<class 'numpy.ndarray'>\n",
      "(2094, 100, 3)\n"
     ]
    }
   ],
   "source": [
    "coords = hss.coordinates #read coordinates of all structures\n",
    "print(type(coords))\n",
    "print(coords.shape)  # ndomain, nstruct, 3"
   ]
  },
  {
   "cell_type": "code",
   "execution_count": 4,
   "metadata": {},
   "outputs": [
    {
     "name": "stdout",
     "output_type": "stream",
     "text": [
      "<class 'numpy.ndarray'>\n",
      "(2094, 3)\n"
     ]
    }
   ],
   "source": [
    "coords_1 = coords[:, 0, :]  # coordinates of struct 1\n",
    "print(type(coords_1))\n",
    "print(coords_1.shape)"
   ]
  },
  {
   "cell_type": "code",
   "execution_count": 5,
   "metadata": {},
   "outputs": [
    {
     "name": "stdout",
     "output_type": "stream",
     "text": [
      "Distance of bead 1 to center: 2294.61 nm\n"
     ]
    }
   ],
   "source": [
    "# Compute distance of bead 1 to center\n",
    "ctr = np.array([0., 0., 0.])\n",
    "bead1_coords = coords_1[0, :]  # coordinates of bead 1\n",
    "dst_bead1_ctr = np.sqrt((bead1_coords[0] - ctr[0])**2 + (bead1_coords[1] - ctr[1])**2 + (bead1_coords[2] - ctr[2])**2)\n",
    "print(\"Distance of bead 1 to center: {:.2f} nm\".format(dst_bead1_ctr))"
   ]
  },
  {
   "attachments": {},
   "cell_type": "markdown",
   "metadata": {},
   "source": [
    "### Recap for last tutorial\n",
    "\n",
    "1. Can you read this file into a hss object:? HCT116_Rao.test.hss\n",
    "2. Can you see \n",
    "    1. How many structures are stored in this hss object? \n",
    "    2. How many beads are in each structure?\n",
    "3. Can you extract \n",
    "    1. The coordinates of all bead in the second structure? \n",
    "    2. The coordinates of first bead in all structure?\n",
    "    3. The coordinates of first bead in the second structure?\n"
   ]
  },
  {
   "cell_type": "code",
   "execution_count": 6,
   "metadata": {},
   "outputs": [
    {
     "name": "stdout",
     "output_type": "stream",
     "text": [
      "mm10\n"
     ]
    }
   ],
   "source": [
    "#Explore Genome class\n",
    "genome = hss.genome\n",
    "genome_assembly= genome.assembly\n",
    "print(genome_assembly)"
   ]
  },
  {
   "cell_type": "code",
   "execution_count": 7,
   "metadata": {},
   "outputs": [
    {
     "name": "stdout",
     "output_type": "stream",
     "text": [
      "<class 'numpy.ndarray'>\n",
      "(21,)\n",
      "['chr1' 'chr2' 'chr3' 'chr4' 'chr5' 'chr6' 'chr7' 'chr8' 'chr9' 'chr10'\n",
      " 'chr11' 'chr12' 'chr13' 'chr14' 'chr15' 'chr16' 'chr17' 'chr18' 'chr19'\n",
      " 'chrX' 'chrY']\n"
     ]
    }
   ],
   "source": [
    "#check chromosome names\n",
    "genome_chroms = genome.chroms\n",
    "print(type(genome_chroms))\n",
    "print(genome_chroms.shape)\n",
    "print(genome_chroms)"
   ]
  },
  {
   "cell_type": "code",
   "execution_count": 8,
   "metadata": {},
   "outputs": [
    {
     "name": "stdout",
     "output_type": "stream",
     "text": [
      "<class 'numpy.ndarray'>\n",
      "(21,)\n",
      "[195471971 182113224 160039680 156508116 151834684 149736546 145441459\n",
      " 129401213 124595110 130694993 122082543 120129022 120421639 124902244\n",
      " 104043685  98207768  94987271  90702639  61431566 171031299  91744698]\n",
      "length of chromosome 1: 195471971 bp\n"
     ]
    }
   ],
   "source": [
    "#check chromosome lengths\n",
    "genome_lengths = genome.lengths\n",
    "print(type(genome_lengths))\n",
    "print(genome_lengths.shape)\n",
    "print(genome_lengths)\n",
    "print(\"length of chromosome 1: {} bp\".format(genome_lengths[0]))"
   ]
  },
  {
   "cell_type": "code",
   "execution_count": 9,
   "metadata": {},
   "outputs": [],
   "source": [
    "#guess what will genome.origin looks like?\n",
    "genome_origins = genome.origins\n",
    "#print(genome.origins)"
   ]
  },
  {
   "cell_type": "code",
   "execution_count": 10,
   "metadata": {},
   "outputs": [
    {
     "name": "stdout",
     "output_type": "stream",
     "text": [
      "<class 'numpy.ndarray'>\n",
      "(2094,)\n",
      "['chr1' 'chr1' 'chr1' ... 'chr19' 'chr19' 'chr19']\n"
     ]
    }
   ],
   "source": [
    "# Explore Index class\n",
    "index = hss.index\n",
    "index_chroms = index.chromstr #what is the difference between index.chromstr and genome.chroms?\n",
    "print(type(index_chroms))\n",
    "print(index_chroms.shape)\n",
    "print(index_chroms)"
   ]
  },
  {
   "cell_type": "code",
   "execution_count": 11,
   "metadata": {},
   "outputs": [],
   "source": [
    "#get index of index_chroms where index_chroms=='chr1'\n",
    "index_chr1 = np.where(index_chroms=='chr1')\n",
    "#index_chr1\n",
    "#index_chroms[index_chr1]"
   ]
  },
  {
   "cell_type": "code",
   "execution_count": 12,
   "metadata": {},
   "outputs": [
    {
     "name": "stdout",
     "output_type": "stream",
     "text": [
      "<class 'numpy.ndarray'>\n",
      "(2094,)\n",
      "[       0  2500000  5000000 ... 55000000 57500000 60000000]\n"
     ]
    }
   ],
   "source": [
    "#View the start and end of each beads\n",
    "index_start = index.start\n",
    "print(type(index_start))\n",
    "print(index_start.shape)\n",
    "print(index_start)"
   ]
  },
  {
   "cell_type": "code",
   "execution_count": 13,
   "metadata": {},
   "outputs": [
    {
     "name": "stdout",
     "output_type": "stream",
     "text": [
      "<class 'numpy.ndarray'>\n",
      "(2094,)\n",
      "[ 2500000  5000000  7500000 ... 57500000 60000000 62500000]\n"
     ]
    }
   ],
   "source": [
    "index_end = index.end\n",
    "print(type(index_end))\n",
    "print(index_end.shape)\n",
    "print(index_end)"
   ]
  },
  {
   "cell_type": "code",
   "execution_count": 14,
   "metadata": {},
   "outputs": [
    {
     "name": "stdout",
     "output_type": "stream",
     "text": [
      "Is resolution constant? True\n"
     ]
    }
   ],
   "source": [
    "resolution = index_end - index_start\n",
    "#what will resolution look like?\n",
    "print(\"Is resolution constant? {}\".format(np.all(resolution == resolution[0])))"
   ]
  },
  {
   "attachments": {},
   "cell_type": "markdown",
   "metadata": {},
   "source": [
    "### Practice\n",
    "How to find the bead index whose chr='chr1', start=2500000, end = 5000000 (hint: you may divide it into three smaller problems first, use np.where to find indices of elements that match particular string and and use np.intersect1d to help you find intersection of two arrays)"
   ]
  },
  {
   "cell_type": "code",
   "execution_count": 16,
   "metadata": {},
   "outputs": [
    {
     "data": {
      "text/plain": [
       "dtype('int32')"
      ]
     },
     "execution_count": 16,
     "metadata": {},
     "output_type": "execute_result"
    }
   ],
   "source": [
    "#use pandas to visualize the index object\n",
    "\n",
    "#write struc information into a dictionary and convert it to pandas dataframe object\n",
    "struc_info={'chr':index_chroms,'start':index_start,'end':index_end}\n",
    "struc_info=pd.DataFrame(struc_info)\n",
    "#visualize the table\n",
    "struc_info['start'].dtype"
   ]
  },
  {
   "attachments": {},
   "cell_type": "markdown",
   "metadata": {},
   "source": [
    "### Practice\n",
    "For the previous question, find the bead index whose chr='chr1', start=2500000, end = 5000000 in table struc_info. <br>(Hint: you may use struc_info[struc_info['chr']=='xxx'] to filter rows match particular condition 'xxx'), and use & to combine multiple conditions"
   ]
  },
  {
   "attachments": {},
   "cell_type": "markdown",
   "metadata": {},
   "source": [
    "### Class HssFile functions: <br>\n",
    "Format: my_hss = HssFile(“filename”,’r’)<br>\n",
    "        \t my_hss.function()"
   ]
  },
  {
   "attachments": {},
   "cell_type": "markdown",
   "metadata": {},
   "source": [
    "get_bead_crd(beads): <br>Gets bead ids as an input and prints out coordinates in each model as an output. The length of the array should be equal to nstruct."
   ]
  },
  {
   "cell_type": "code",
   "execution_count": 18,
   "metadata": {},
   "outputs": [
    {
     "data": {
      "text/plain": [
       "array([[-1001.47   , -1418.1    ,  1500.43   ],\n",
       "       [ -119.724  , -1331.97   ,  -319.539  ],\n",
       "       [ -917.126  ,    24.7966 , -2026.25   ],\n",
       "       [ 1411.59   ,  -162.014  ,  -220.577  ],\n",
       "       [ 1163.19   ,  -491.541  , -1956.4    ],\n",
       "       [  633.     ,   857.412  ,  1939.44   ],\n",
       "       [  590.648  ,   352.885  ,  1439.75   ],\n",
       "       [  657.714  ,    14.3107 , -1756.82   ],\n",
       "       [ -785.333  ,  1840.45   ,  -787.647  ],\n",
       "       [-2590.25   ,   159.615  ,  -908.967  ],\n",
       "       [ 1259.56   ,  1184.48   , -1549.53   ],\n",
       "       [-1203.09   , -1484.29   , -1095.     ],\n",
       "       [-1050.82   ,  1480.47   , -1421.59   ],\n",
       "       [-1466.54   ,  1666.43   ,  -725.582  ],\n",
       "       [-1537.72   ,   608.001  , -1730.85   ],\n",
       "       [-2203.73   ,  -158.846  , -1222.23   ],\n",
       "       [-2694.65   ,  -261.49   ,  -521.263  ],\n",
       "       [ -344.754  , -1162.4    ,  1847.54   ],\n",
       "       [  233.879  , -1727.33   ,  1240.55   ],\n",
       "       [-1427.63   ,  -824.598  ,   877.927  ],\n",
       "       [ 1578.91   , -1803.96   ,   142.03   ],\n",
       "       [   75.0677 ,    29.3873 , -1008.26   ],\n",
       "       [ 1964.07   ,   -46.7659 ,   271.915  ],\n",
       "       [-1591.28   ,   -49.2983 ,  1615.36   ],\n",
       "       [  989.976  ,  -655.603  ,  1891.76   ],\n",
       "       [ -502.227  ,  -495.489  , -2025.8    ],\n",
       "       [ 2445.53   ,  -994.003  ,   581.804  ],\n",
       "       [ 1961.96   ,    51.9073 ,  1031.34   ],\n",
       "       [-1623.06   ,  1620.59   ,   658.882  ],\n",
       "       [ 2446.57   ,   -57.3841 ,  -962.533  ],\n",
       "       [-1835.87   ,  1645.9    ,  -251.127  ],\n",
       "       [ -386.576  ,   227.686  ,  2147.99   ],\n",
       "       [ 2280.98   ,  -167.728  , -1327.73   ],\n",
       "       [-2623.6    ,  -920.059  ,    47.8234 ],\n",
       "       [ 2426.82   ,   -18.9559 , -1151.66   ],\n",
       "       [-2159.85   , -1293.21   ,  -589.354  ],\n",
       "       [ -298.919  ,  1653.95   ,  1347.4    ],\n",
       "       [  795.332  ,   614.399  , -1942.82   ],\n",
       "       [ 1226.04   ,  -252.436  ,  -278.662  ],\n",
       "       [  760.413  ,  -586.099  ,  -372.454  ],\n",
       "       [ -453.185  ,  2015.59   ,  -801.252  ],\n",
       "       [-1796.48   , -1209.93   ,  1134.3    ],\n",
       "       [-2094.65   ,     7.38087,  1104.7    ],\n",
       "       [-1808.82   ,   813.344  ,   261.35   ],\n",
       "       [-2507.66   ,   779.902  ,   425.297  ],\n",
       "       [ -321.962  , -1659.06   ,  1395.88   ],\n",
       "       [ 1012.28   ,   456.334  ,  1974.09   ],\n",
       "       [-2404.37   ,   849.14   ,   690.754  ],\n",
       "       [ 1622.08   ,   183.621  , -1243.34   ],\n",
       "       [  857.48   ,   811.958  ,  -524.611  ],\n",
       "       [ 2194.06   ,    25.6254 , -1335.39   ],\n",
       "       [ 1034.13   ,  -521.149  ,  -673.305  ],\n",
       "       [ 2520.17   ,   -15.1862 ,  -671.092  ],\n",
       "       [ 1681.16   ,  1718.57   ,   347.168  ],\n",
       "       [ 2205.1    ,  1357.23   ,   453.715  ],\n",
       "       [-2831.71   ,  -386.438  ,  -244.073  ],\n",
       "       [  604.502  ,  1475.06   ,  1540.83   ],\n",
       "       [ -436.432  ,   384.853  ,  2141.75   ],\n",
       "       [-1414.3    ,   252.977  ,  1898.56   ],\n",
       "       [ 1433.94   ,  -777.524  , -1393.89   ],\n",
       "       [-1536.87   ,  -629.181  ,  1703.59   ],\n",
       "       [ -136.359  , -2184.09   ,  -201.719  ],\n",
       "       [ 2345.23   ,  -955.529  ,   767.012  ],\n",
       "       [-2730.47   ,  -653.137  ,  -359.385  ],\n",
       "       [-1071.38   ,   181.131  ,   487.669  ],\n",
       "       [ 2055.59   ,  1075.58   ,  1065.04   ],\n",
       "       [ -854.351  ,   131.666  , -2059.75   ],\n",
       "       [-1526.07   ,  1694.55   ,  -382.619  ],\n",
       "       [-1974.71   ,  1082.78   ,  -495.189  ],\n",
       "       [-2697.56   ,   516.046  ,  -401.078  ],\n",
       "       [ 1120.32   ,  1979.72   ,   258.78   ],\n",
       "       [-2378.64   ,   564.763  ,  -878.057  ],\n",
       "       [ 1180.52   , -1797.18   ,   378.165  ],\n",
       "       [ 2123.54   ,  -972.294  ,  1064.16   ],\n",
       "       [ 1480.15   ,   866.691  ,  1666.42   ],\n",
       "       [ -623.926  ,   253.615  , -2046.31   ],\n",
       "       [-1794.52   ,  1452.81   ,  -891.667  ],\n",
       "       [  596.312  , -1160.64   ,  1608.95   ],\n",
       "       [ 1584.78   , -1503.54   ,  -215.352  ],\n",
       "       [-2310.13   ,  1013.42   ,   799.539  ],\n",
       "       [ -378.863  ,  1155.01   , -1833.4    ],\n",
       "       [ -389.713  ,   852.054  ,  1950.36   ],\n",
       "       [ 2193.81   ,   -52.1334 ,  1420.19   ],\n",
       "       [  317.125  ,  -895.056  ,  1944.03   ],\n",
       "       [-1524.9    ,  1852.53   ,  -196.582  ],\n",
       "       [   57.3892 , -1194.92   ,  1846.38   ],\n",
       "       [  190.609  ,  -759.644  ,  1223.4    ],\n",
       "       [-1455.98   , -1347.08   , -1001.11   ],\n",
       "       [  533.751  ,   489.015  , -1260.76   ],\n",
       "       [ 1819.73   , -1217.75   ,   869.281  ],\n",
       "       [ 2166.97   ,   417.156  ,  -287.913  ],\n",
       "       [ 2485.56   ,  1109.83   ,  -165.009  ],\n",
       "       [-1288.69   , -1593.67   ,  1156.61   ],\n",
       "       [ 1870.4    ,   105.33   ,  1666.33   ],\n",
       "       [-1624.2    ,  1489.61   ,  -974.248  ],\n",
       "       [-1393.24   ,  1813.29   ,  -414.011  ],\n",
       "       [  700.583  , -1780.96   ,  -653.553  ],\n",
       "       [ 1537.87   ,  1245.94   , -1361.38   ],\n",
       "       [  620.632  ,  1203.46   ,  -916.078  ],\n",
       "       [-2248.16   ,   254.528  ,  1343.8    ]], dtype=float32)"
      ]
     },
     "execution_count": 18,
     "metadata": {},
     "output_type": "execute_result"
    }
   ],
   "source": [
    "bead_1_crd=hss.get_bead_crd(0)"
   ]
  },
  {
   "attachments": {},
   "cell_type": "markdown",
   "metadata": {},
   "source": [
    "get_struct_crd(models): <br>Gets struct ids as an input and prints out coordinates for all beads in the structure as an output. The length of the array should be equal to nbead.\n"
   ]
  },
  {
   "cell_type": "code",
   "execution_count": 19,
   "metadata": {},
   "outputs": [
    {
     "data": {
      "text/plain": [
       "array([[[-1001.47  , -1418.1   ,  1500.43  ]],\n",
       "\n",
       "       [[-1173.11  , -1377.33  ,  1042.44  ]],\n",
       "\n",
       "       [[-1072.83  , -1097.64  ,  1450.14  ]],\n",
       "\n",
       "       ...,\n",
       "\n",
       "       [[ -964.204 ,  -113.418 ,   116.495 ]],\n",
       "\n",
       "       [[ -632.808 ,  -391.402 ,  -208.83  ]],\n",
       "\n",
       "       [[ -805.402 ,  -839.024 ,    22.9564]]], dtype=float32)"
      ]
     },
     "execution_count": 19,
     "metadata": {},
     "output_type": "execute_result"
    }
   ],
   "source": [
    "hss.get_struct_crd([0])"
   ]
  },
  {
   "attachments": {},
   "cell_type": "markdown",
   "metadata": {},
   "source": [
    "getBeadRadialPositions(beads, nucleusRadius=5000): <br>Gets the array of bead ids as an input and prints out radial positions in each structure in the population. NucleusRadius is the radius of the whole genome structure (default = 5000.0).\n"
   ]
  },
  {
   "cell_type": "code",
   "execution_count": null,
   "metadata": {},
   "outputs": [],
   "source": [
    "hss.getBeadRadialPositions([0])"
   ]
  },
  {
   "attachments": {},
   "cell_type": "markdown",
   "metadata": {},
   "source": [
    "getChromBeadRadialPosition(chrnum, nucleusRadius=5000): <br>Gets the chrom id (0-indexed) as an input and prints out the radial positions of beads in that chromosome for each structure.\n"
   ]
  },
  {
   "cell_type": "code",
   "execution_count": 20,
   "metadata": {},
   "outputs": [
    {
     "data": {
      "text/plain": [
       "array([[0.45892224, 0.27499694, 0.44485614, ..., 0.5090492 , 0.5389437 ,\n",
       "        0.4549859 ],\n",
       "       [0.41760775, 0.16299318, 0.4394453 , ..., 0.4108551 , 0.424862  ,\n",
       "        0.440687  ],\n",
       "       [0.4223119 , 0.17060232, 0.3592254 , ..., 0.32171032, 0.476618  ,\n",
       "        0.39111   ],\n",
       "       ...,\n",
       "       [0.38942602, 0.12283513, 0.15309018, ..., 0.27479854, 0.35586652,\n",
       "        0.31527287],\n",
       "       [0.35884947, 0.09306116, 0.13190234, ..., 0.3186278 , 0.3956942 ,\n",
       "        0.41596237],\n",
       "       [0.34170452, 0.15958302, 0.20046648, ..., 0.2690601 , 0.45816317,\n",
       "        0.4397109 ]], dtype=float32)"
      ]
     },
     "execution_count": 20,
     "metadata": {},
     "output_type": "execute_result"
    }
   ],
   "source": [
    "hss.getChromBeadRadialPosition(0)"
   ]
  }
 ],
 "metadata": {
  "kernelspec": {
   "display_name": "Python 3",
   "language": "python",
   "name": "python3"
  },
  "language_info": {
   "codemirror_mode": {
    "name": "ipython",
    "version": 3
   },
   "file_extension": ".py",
   "mimetype": "text/x-python",
   "name": "python",
   "nbconvert_exporter": "python",
   "pygments_lexer": "ipython3",
   "version": "3.6.13"
  },
  "orig_nbformat": 4
 },
 "nbformat": 4,
 "nbformat_minor": 2
}
