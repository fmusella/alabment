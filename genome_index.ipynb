{
 "cells": [
  {
   "cell_type": "code",
   "execution_count": 1,
   "metadata": {},
   "outputs": [],
   "source": [
    "import numpy as np\n",
    "import pandas as pd\n",
    "from alabtools.analysis import HssFile"
   ]
  },
  {
   "cell_type": "code",
   "execution_count": 2,
   "metadata": {},
   "outputs": [],
   "source": [
    "hss = HssFile('igm-model_mcrb_2.5MB.hss', 'r')"
   ]
  },
  {
   "cell_type": "code",
   "execution_count": 27,
   "metadata": {},
   "outputs": [
    {
     "name": "stdout",
     "output_type": "stream",
     "text": [
      "<class 'numpy.ndarray'>\n",
      "(2094, 100, 3)\n"
     ]
    }
   ],
   "source": [
    "coords = hss.coordinates #read coordinates of all structures\n",
    "print(type(coords))\n",
    "print(coords.shape)  # ndomain, nstruct, 3"
   ]
  },
  {
   "cell_type": "code",
   "execution_count": 28,
   "metadata": {},
   "outputs": [
    {
     "name": "stdout",
     "output_type": "stream",
     "text": [
      "<class 'numpy.ndarray'>\n",
      "(2094, 3)\n"
     ]
    }
   ],
   "source": [
    "coords_1 = coords[:, 0, :]  # coordinates of struct 1\n",
    "print(type(coords_1))\n",
    "print(coords_1.shape)"
   ]
  },
  {
   "cell_type": "code",
   "execution_count": 29,
   "metadata": {},
   "outputs": [
    {
     "name": "stdout",
     "output_type": "stream",
     "text": [
      "Distance of bead 1 to center: 2294.61 nm\n"
     ]
    }
   ],
   "source": [
    "# Compute distance of bead 1 to center\n",
    "ctr = np.array([0., 0., 0.])\n",
    "bead1_coords = coords_1[0, :]  # coordinates of bead 1\n",
    "dst_bead1_ctr = np.sqrt((bead1_coords[0] - ctr[0])**2 + (bead1_coords[1] - ctr[1])**2 + (bead1_coords[2] - ctr[2])**2)\n",
    "print(\"Distance of bead 1 to center: {:.2f} nm\".format(dst_bead1_ctr))"
   ]
  },
  {
   "attachments": {},
   "cell_type": "markdown",
   "metadata": {},
   "source": [
    "### Recap for last tutorial\n",
    "\n",
    "1. Can you read this file into a hss object:? HCT116_Rao.test.hss\n",
    "2. Can you see \n",
    "    1. How many structures are stored in this hss object? \n",
    "    2. How many beads are in each structure?\n",
    "3. Can you extract \n",
    "    1. The coordinates of all bead in the second structure? \n",
    "    2. The coordinates of first bead in all structure?\n",
    "    3. The coordinates of first bead in the second structure?\n"
   ]
  },
  {
   "cell_type": "code",
   "execution_count": 4,
   "metadata": {},
   "outputs": [
    {
     "name": "stdout",
     "output_type": "stream",
     "text": [
      "mm10\n"
     ]
    }
   ],
   "source": [
    "#Explore Genome class\n",
    "genome = hss.genome\n",
    "genome_assembly= genome.assembly\n",
    "print(genome_assembly)"
   ]
  },
  {
   "cell_type": "code",
   "execution_count": 5,
   "metadata": {},
   "outputs": [
    {
     "name": "stdout",
     "output_type": "stream",
     "text": [
      "<class 'numpy.ndarray'>\n",
      "(21,)\n",
      "['chr1' 'chr2' 'chr3' 'chr4' 'chr5' 'chr6' 'chr7' 'chr8' 'chr9' 'chr10'\n",
      " 'chr11' 'chr12' 'chr13' 'chr14' 'chr15' 'chr16' 'chr17' 'chr18' 'chr19'\n",
      " 'chrX' 'chrY']\n"
     ]
    }
   ],
   "source": [
    "#check chromosome names\n",
    "genome_chroms = genome.chroms\n",
    "print(type(genome_chroms))\n",
    "print(genome_chroms.shape)\n",
    "print(genome_chroms)"
   ]
  },
  {
   "cell_type": "code",
   "execution_count": 6,
   "metadata": {},
   "outputs": [
    {
     "name": "stdout",
     "output_type": "stream",
     "text": [
      "<class 'numpy.ndarray'>\n",
      "(21,)\n",
      "[195471971 182113224 160039680 156508116 151834684 149736546 145441459\n",
      " 129401213 124595110 130694993 122082543 120129022 120421639 124902244\n",
      " 104043685  98207768  94987271  90702639  61431566 171031299  91744698]\n",
      "length of chromosome 1: 195471971 bp\n"
     ]
    }
   ],
   "source": [
    "#check chromosome lengths\n",
    "genome_lengths = genome.lengths\n",
    "print(type(genome_lengths))\n",
    "print(genome_lengths.shape)\n",
    "print(genome_lengths)\n",
    "print(\"length of chromosome 1: {} bp\".format(genome_lengths[0]))"
   ]
  },
  {
   "cell_type": "code",
   "execution_count": 8,
   "metadata": {},
   "outputs": [],
   "source": [
    "#guess what will genome.origin looks like?\n",
    "genome_origins = genome.origins\n",
    "#print(genome.origins)"
   ]
  },
  {
   "cell_type": "code",
   "execution_count": 9,
   "metadata": {},
   "outputs": [
    {
     "name": "stdout",
     "output_type": "stream",
     "text": [
      "<class 'numpy.ndarray'>\n",
      "(2094,)\n",
      "['chr1' 'chr1' 'chr1' ... 'chr19' 'chr19' 'chr19']\n"
     ]
    }
   ],
   "source": [
    "# Explore Index class\n",
    "index = hss.index\n",
    "index_chroms = index.chromstr #what is the difference between index.chromstr and genome.chroms?\n",
    "print(type(index_chroms))\n",
    "print(index_chroms.shape)\n",
    "print(index_chroms)"
   ]
  },
  {
   "cell_type": "code",
   "execution_count": 21,
   "metadata": {},
   "outputs": [],
   "source": [
    "#get index of index_chroms where index_chroms=='chr1'\n",
    "index_chr1 = np.where(index_chroms=='chr1')\n",
    "#index_chr1\n",
    "#index_chroms[index_chr1]"
   ]
  },
  {
   "cell_type": "code",
   "execution_count": 16,
   "metadata": {},
   "outputs": [
    {
     "name": "stdout",
     "output_type": "stream",
     "text": [
      "<class 'numpy.ndarray'>\n",
      "(2094,)\n",
      "[       0  2500000  5000000 ... 55000000 57500000 60000000]\n"
     ]
    }
   ],
   "source": [
    "#View the start and end of each beads\n",
    "index_start = index.start\n",
    "print(type(index_start))\n",
    "print(index_start.shape)\n",
    "print(index_start)"
   ]
  },
  {
   "cell_type": "code",
   "execution_count": 18,
   "metadata": {},
   "outputs": [
    {
     "name": "stdout",
     "output_type": "stream",
     "text": [
      "<class 'numpy.ndarray'>\n",
      "(2094,)\n",
      "[ 2500000  5000000  7500000 ... 57500000 60000000 62500000]\n"
     ]
    }
   ],
   "source": [
    "index_end = index.end\n",
    "print(type(index_end))\n",
    "print(index_end.shape)\n",
    "print(index_end)"
   ]
  },
  {
   "cell_type": "code",
   "execution_count": 20,
   "metadata": {},
   "outputs": [
    {
     "name": "stdout",
     "output_type": "stream",
     "text": [
      "Is resolution constant? True\n"
     ]
    }
   ],
   "source": [
    "resolution = index_end - index_start\n",
    "#what will resolution look like?\n",
    "print(\"Is resolution constant? {}\".format(np.all(resolution == resolution[0])))"
   ]
  },
  {
   "attachments": {},
   "cell_type": "markdown",
   "metadata": {},
   "source": [
    "### Practice\n",
    "How to find the bead index whose chr='chr1', start=2500000, end = 5000000 (hint: you may divide it into three smaller problems first, and use np.intersect1d to help you find intersection of two arrays)"
   ]
  },
  {
   "cell_type": "code",
   "execution_count": 25,
   "metadata": {},
   "outputs": [
    {
     "data": {
      "text/plain": [
       "array([   1, 1101])"
      ]
     },
     "execution_count": 25,
     "metadata": {},
     "output_type": "execute_result"
    }
   ],
   "source": [
    "index_chr1 = np.where(index_chroms=='chr1')\n",
    "index_start_2500000= np.where(index_start==2500000)\n",
    "index_end_5000000= np.where(index_end==5000000)\n",
    "intersect=np.intersect1d(index_chr1, index_start_2500000)\n",
    "#intersect=np.intersect1d(intersect, index_end_400000)\n",
    "intersect"
   ]
  },
  {
   "cell_type": "code",
   "execution_count": 39,
   "metadata": {},
   "outputs": [
    {
     "data": {
      "text/plain": [
       "dtype('int32')"
      ]
     },
     "execution_count": 39,
     "metadata": {},
     "output_type": "execute_result"
    }
   ],
   "source": [
    "#use pandas to visualize the index object\n",
    "\n",
    "#write struc information into a dictionary and convert it to pandas dataframe object\n",
    "struc_info={'chr':index_chroms,'start':index_start,'end':index_end}\n",
    "struc_info=pd.DataFrame(struc_info)\n",
    "#visualize the table\n",
    "struc_info['start'].dtype"
   ]
  },
  {
   "attachments": {},
   "cell_type": "markdown",
   "metadata": {},
   "source": [
    "### Practice\n",
    "For the previous question, find the bead index whose chr='chr1', start=2500000, end = 5000000 in table struc_info. <br>(Hint: you may use struc_info[struc_info['chr']=='xxx'] to filter rows match particular condition 'xxx')"
   ]
  },
  {
   "cell_type": "code",
   "execution_count": 42,
   "metadata": {},
   "outputs": [
    {
     "data": {
      "text/html": [
       "<div>\n",
       "<style scoped>\n",
       "    .dataframe tbody tr th:only-of-type {\n",
       "        vertical-align: middle;\n",
       "    }\n",
       "\n",
       "    .dataframe tbody tr th {\n",
       "        vertical-align: top;\n",
       "    }\n",
       "\n",
       "    .dataframe thead th {\n",
       "        text-align: right;\n",
       "    }\n",
       "</style>\n",
       "<table border=\"1\" class=\"dataframe\">\n",
       "  <thead>\n",
       "    <tr style=\"text-align: right;\">\n",
       "      <th></th>\n",
       "      <th>chr</th>\n",
       "      <th>start</th>\n",
       "      <th>end</th>\n",
       "    </tr>\n",
       "  </thead>\n",
       "  <tbody>\n",
       "    <tr>\n",
       "      <th>1</th>\n",
       "      <td>chr1</td>\n",
       "      <td>2500000</td>\n",
       "      <td>5000000</td>\n",
       "    </tr>\n",
       "    <tr>\n",
       "      <th>1101</th>\n",
       "      <td>chr1</td>\n",
       "      <td>2500000</td>\n",
       "      <td>5000000</td>\n",
       "    </tr>\n",
       "  </tbody>\n",
       "</table>\n",
       "</div>"
      ],
      "text/plain": [
       "       chr    start      end\n",
       "1     chr1  2500000  5000000\n",
       "1101  chr1  2500000  5000000"
      ]
     },
     "execution_count": 42,
     "metadata": {},
     "output_type": "execute_result"
    }
   ],
   "source": [
    "target_beads=struc_info[(struc_info['chr']=='chr1') & (struc_info['start']==2500000) & (struc_info['end']==5000000)]\n",
    "target_beads"
   ]
  }
 ],
 "metadata": {
  "kernelspec": {
   "display_name": "Python 3",
   "language": "python",
   "name": "python3"
  },
  "language_info": {
   "codemirror_mode": {
    "name": "ipython",
    "version": 3
   },
   "file_extension": ".py",
   "mimetype": "text/x-python",
   "name": "python",
   "nbconvert_exporter": "python",
   "pygments_lexer": "ipython3",
   "version": "3.6.13"
  },
  "orig_nbformat": 4
 },
 "nbformat": 4,
 "nbformat_minor": 2
}
