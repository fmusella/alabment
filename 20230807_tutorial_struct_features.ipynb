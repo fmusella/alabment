{
 "cells": [
  {
   "cell_type": "code",
   "execution_count": 4,
   "metadata": {},
   "outputs": [],
   "source": [
    "import numpy as np\n",
    "import pandas as pd\n",
    "import sys,os\n",
    "import alabtools.geo\n",
    "from alabtools.analysis import HssFile\n",
    "from scipy.spatial import distance\n",
    "import networkx as nx\n",
    "import markov_clustering as mc\n",
    "import pickle\n",
    "from scipy.spatial.distance import cdist\n",
    "from tqdm import tqdm\n",
    "from matplotlib import pyplot as plt\n",
    "%matplotlib inline"
   ]
  },
  {
   "cell_type": "code",
   "execution_count": 1,
   "metadata": {},
   "outputs": [
    {
     "name": "stdout",
     "output_type": "stream",
     "text": [
      "Requirement already satisfied: networkx in /u/project/xjzhou/wyeast/wy_software/envs/igm/lib/python3.6/site-packages (2.5.1)\n",
      "Collecting decorator<5,>=4.3\n",
      "  Using cached decorator-4.4.2-py2.py3-none-any.whl (9.2 kB)\n",
      "Installing collected packages: decorator\n",
      "  Attempting uninstall: decorator\n",
      "    Found existing installation: decorator 5.1.1\n",
      "    Uninstalling decorator-5.1.1:\n",
      "      Successfully uninstalled decorator-5.1.1\n",
      "Successfully installed decorator-4.4.2\n",
      "Note: you may need to restart the kernel to use updated packages.\n"
     ]
    }
   ],
   "source": [
    "pip install networkx"
   ]
  },
  {
   "cell_type": "code",
   "execution_count": 2,
   "metadata": {},
   "outputs": [
    {
     "name": "stdout",
     "output_type": "stream",
     "text": [
      "Requirement already satisfied: markov_clustering in /u/project/xjzhou/wyeast/wy_software/envs/igm/lib/python3.6/site-packages (0.0.6.dev0)\n",
      "Requirement already satisfied: numpy in /u/home/w/wyeast/.local/lib/python3.6/site-packages (from markov_clustering) (1.19.5)\n",
      "Requirement already satisfied: scikit-learn in /u/home/w/wyeast/.local/lib/python3.6/site-packages (from markov_clustering) (0.24.2)\n",
      "Requirement already satisfied: scipy>=0.19.0 in /u/project/xjzhou/wyeast/wy_software/envs/igm/lib/python3.6/site-packages (from markov_clustering) (1.5.3)\n",
      "Requirement already satisfied: joblib>=0.11 in /u/home/w/wyeast/.local/lib/python3.6/site-packages (from scikit-learn->markov_clustering) (1.1.0)\n",
      "Requirement already satisfied: threadpoolctl>=2.0.0 in /u/home/w/wyeast/.local/lib/python3.6/site-packages (from scikit-learn->markov_clustering) (3.0.0)\n",
      "Note: you may need to restart the kernel to use updated packages.\n"
     ]
    }
   ],
   "source": [
    "pip install markov_clustering"
   ]
  },
  {
   "cell_type": "code",
   "execution_count": 6,
   "metadata": {},
   "outputs": [
    {
     "data": {
      "text/plain": [
       "'/u/home/w/wyeast/IGM_tutorial'"
      ]
     },
     "execution_count": 6,
     "metadata": {},
     "output_type": "execute_result"
    }
   ],
   "source": [
    "os.getcwd()"
   ]
  },
  {
   "attachments": {},
   "cell_type": "markdown",
   "metadata": {},
   "source": [
    "#### Solution for the assignment"
   ]
  },
  {
   "attachments": {},
   "cell_type": "markdown",
   "metadata": {},
   "source": [
    "At individual structure level, in structure $m$, the distance of chromatin region $i$ to the nuclear center $d_{i,m}$ is \n",
    "$$\n",
    "d_{i,m}=\\frac{\\sum_{c=0}^{K}{d_{c,i,m}}}{K}\n",
    "$$\n",
    "where $d_{i,c,m}$ is the distance of copy $c$ of region $i$ to the nuclear center, so d_{i,m} is the average of multiple copies of region $i$ to the nuclear center in structure $m$. For example, if genome is diploid\n",
    "$$\n",
    "d_{i,m}=\\frac{d_{0,i,m}+d_{1,i,m}}{2}\n",
    "$$\n",
    "Because different cells have different nucleus shape, in order to make the radial position of a chromatin regions comparable within and across different cell. We use the normalized version of $d_{i,m}$:\n",
    "$$\n",
    "r_{i,m} = \\frac{d_{i,m}}{R^{nuc}}\n",
    "$$\n",
    "where $R^{nuc}$ is the nucleus radius which is 5 μm for a sphere nucleus. $r_{i,m}$\n",
    "= 0 means the region i is at the nuclear center while $r_{i,m}=1$ means it is located at the nuclear surface. "
   ]
  },
  {
   "attachments": {},
   "cell_type": "markdown",
   "metadata": {},
   "source": [
    "### Mean radial position (RAD)"
   ]
  },
  {
   "attachments": {},
   "cell_type": "markdown",
   "metadata": {},
   "source": [
    "How can we measure the average radial position of a chromatin region $i$ across all the structures in the population? We define the mean radial position RAD\n",
    "$$\n",
    "RAD_{i} = \\frac{\\sum_{m=1}^{N}{r_{i,m}}}{N}\n",
    "$$\n",
    "Where $N$ is the total number of structures in the population"
   ]
  },
  {
   "cell_type": "code",
   "execution_count": 9,
   "metadata": {},
   "outputs": [
    {
     "name": "stdout",
     "output_type": "stream",
     "text": [
      "{0: [0, 1100], 1: [1, 1101], 2: [2, 1102], 3: [3, 1103], 4: [4, 1104], 5: [5, 1105], 6: [6, 1106], 7: [7, 1107], 8: [8, 1108], 9: [9, 1109], 10: [10, 1110], 11: [11, 1111], 12: [12, 1112], 13: [13, 1113], 14: [14, 1114], 15: [15, 1115], 16: [16, 1116], 17: [17, 1117], 18: [18, 1118], 19: [19, 1119], 20: [20, 1120], 21: [21, 1121], 22: [22, 1122], 23: [23, 1123], 24: [24, 1124], 25: [25, 1125], 26: [26, 1126], 27: [27, 1127], 28: [28, 1128], 29: [29, 1129], 30: [30, 1130], 31: [31, 1131], 32: [32, 1132], 33: [33, 1133], 34: [34, 1134], 35: [35, 1135], 36: [36, 1136], 37: [37, 1137], 38: [38, 1138], 39: [39, 1139], 40: [40, 1140], 41: [41, 1141], 42: [42, 1142], 43: [43, 1143], 44: [44, 1144], 45: [45, 1145], 46: [46, 1146], 47: [47, 1147], 48: [48, 1148], 49: [49, 1149], 50: [50, 1150], 51: [51, 1151], 52: [52, 1152], 53: [53, 1153], 54: [54, 1154], 55: [55, 1155], 56: [56, 1156], 57: [57, 1157], 58: [58, 1158], 59: [59, 1159], 60: [60, 1160], 61: [61, 1161], 62: [62, 1162], 63: [63, 1163], 64: [64, 1164], 65: [65, 1165], 66: [66, 1166], 67: [67, 1167], 68: [68, 1168], 69: [69, 1169], 70: [70, 1170], 71: [71, 1171], 72: [72, 1172], 73: [73, 1173], 74: [74, 1174], 75: [75, 1175], 76: [76, 1176], 77: [77, 1177], 78: [78, 1178], 79: [79, 1179], 80: [80, 1180], 81: [81, 1181], 82: [82, 1182], 83: [83, 1183], 84: [84, 1184], 85: [85, 1185], 86: [86, 1186], 87: [87, 1187], 88: [88, 1188], 89: [89, 1189], 90: [90, 1190], 91: [91, 1191], 92: [92, 1192], 93: [93, 1193], 94: [94, 1194], 95: [95, 1195], 96: [96, 1196], 97: [97, 1197], 98: [98, 1198], 99: [99, 1199], 100: [100, 1200], 101: [101, 1201], 102: [102, 1202], 103: [103, 1203], 104: [104, 1204], 105: [105, 1205], 106: [106, 1206], 107: [107, 1207], 108: [108, 1208], 109: [109, 1209], 110: [110, 1210], 111: [111, 1211], 112: [112, 1212], 113: [113, 1213], 114: [114, 1214], 115: [115, 1215], 116: [116, 1216], 117: [117, 1217], 118: [118, 1218], 119: [119, 1219], 120: [120, 1220], 121: [121, 1221], 122: [122, 1222], 123: [123, 1223], 124: [124, 1224], 125: [125, 1225], 126: [126, 1226], 127: [127, 1227], 128: [128, 1228], 129: [129, 1229], 130: [130, 1230], 131: [131, 1231], 132: [132, 1232], 133: [133, 1233], 134: [134, 1234], 135: [135, 1235], 136: [136, 1236], 137: [137, 1237], 138: [138, 1238], 139: [139, 1239], 140: [140, 1240], 141: [141, 1241], 142: [142, 1242], 143: [143, 1243], 144: [144, 1244], 145: [145, 1245], 146: [146, 1246], 147: [147, 1247], 148: [148, 1248], 149: [149, 1249], 150: [150, 1250], 151: [151, 1251], 152: [152, 1252], 153: [153, 1253], 154: [154, 1254], 155: [155, 1255], 156: [156, 1256], 157: [157, 1257], 158: [158, 1258], 159: [159, 1259], 160: [160, 1260], 161: [161, 1261], 162: [162, 1262], 163: [163, 1263], 164: [164, 1264], 165: [165, 1265], 166: [166, 1266], 167: [167, 1267], 168: [168, 1268], 169: [169, 1269], 170: [170, 1270], 171: [171, 1271], 172: [172, 1272], 173: [173, 1273], 174: [174, 1274], 175: [175, 1275], 176: [176, 1276], 177: [177, 1277], 178: [178, 1278], 179: [179, 1279], 180: [180, 1280], 181: [181, 1281], 182: [182, 1282], 183: [183, 1283], 184: [184, 1284], 185: [185, 1285], 186: [186, 1286], 187: [187, 1287], 188: [188, 1288], 189: [189, 1289], 190: [190, 1290], 191: [191, 1291], 192: [192, 1292], 193: [193, 1293], 194: [194, 1294], 195: [195, 1295], 196: [196, 1296], 197: [197, 1297], 198: [198, 1298], 199: [199, 1299], 200: [200, 1300], 201: [201, 1301], 202: [202, 1302], 203: [203, 1303], 204: [204, 1304], 205: [205, 1305], 206: [206, 1306], 207: [207, 1307], 208: [208, 1308], 209: [209, 1309], 210: [210, 1310], 211: [211, 1311], 212: [212, 1312], 213: [213, 1313], 214: [214, 1314], 215: [215, 1315], 216: [216, 1316], 217: [217, 1317], 218: [218, 1318], 219: [219, 1319], 220: [220, 1320], 221: [221, 1321], 222: [222, 1322], 223: [223, 1323], 224: [224, 1324], 225: [225, 1325], 226: [226, 1326], 227: [227, 1327], 228: [228, 1328], 229: [229, 1329], 230: [230, 1330], 231: [231, 1331], 232: [232, 1332], 233: [233, 1333], 234: [234, 1334], 235: [235, 1335], 236: [236, 1336], 237: [237, 1337], 238: [238, 1338], 239: [239, 1339], 240: [240, 1340], 241: [241, 1341], 242: [242, 1342], 243: [243, 1343], 244: [244, 1344], 245: [245, 1345], 246: [246, 1346], 247: [247, 1347], 248: [248, 1348], 249: [249, 1349], 250: [250, 1350], 251: [251, 1351], 252: [252, 1352], 253: [253, 1353], 254: [254, 1354], 255: [255, 1355], 256: [256, 1356], 257: [257, 1357], 258: [258, 1358], 259: [259, 1359], 260: [260, 1360], 261: [261, 1361], 262: [262, 1362], 263: [263, 1363], 264: [264, 1364], 265: [265, 1365], 266: [266, 1366], 267: [267, 1367], 268: [268, 1368], 269: [269, 1369], 270: [270, 1370], 271: [271, 1371], 272: [272, 1372], 273: [273, 1373], 274: [274, 1374], 275: [275, 1375], 276: [276, 1376], 277: [277, 1377], 278: [278, 1378], 279: [279, 1379], 280: [280, 1380], 281: [281, 1381], 282: [282, 1382], 283: [283, 1383], 284: [284, 1384], 285: [285, 1385], 286: [286, 1386], 287: [287, 1387], 288: [288, 1388], 289: [289, 1389], 290: [290, 1390], 291: [291, 1391], 292: [292, 1392], 293: [293, 1393], 294: [294, 1394], 295: [295, 1395], 296: [296, 1396], 297: [297, 1397], 298: [298, 1398], 299: [299, 1399], 300: [300, 1400], 301: [301, 1401], 302: [302, 1402], 303: [303, 1403], 304: [304, 1404], 305: [305, 1405], 306: [306, 1406], 307: [307, 1407], 308: [308, 1408], 309: [309, 1409], 310: [310, 1410], 311: [311, 1411], 312: [312, 1412], 313: [313, 1413], 314: [314, 1414], 315: [315, 1415], 316: [316, 1416], 317: [317, 1417], 318: [318, 1418], 319: [319, 1419], 320: [320, 1420], 321: [321, 1421], 322: [322, 1422], 323: [323, 1423], 324: [324, 1424], 325: [325, 1425], 326: [326, 1426], 327: [327, 1427], 328: [328, 1428], 329: [329, 1429], 330: [330, 1430], 331: [331, 1431], 332: [332, 1432], 333: [333, 1433], 334: [334, 1434], 335: [335, 1435], 336: [336, 1436], 337: [337, 1437], 338: [338, 1438], 339: [339, 1439], 340: [340, 1440], 341: [341, 1441], 342: [342, 1442], 343: [343, 1443], 344: [344, 1444], 345: [345, 1445], 346: [346, 1446], 347: [347, 1447], 348: [348, 1448], 349: [349, 1449], 350: [350, 1450], 351: [351, 1451], 352: [352, 1452], 353: [353, 1453], 354: [354, 1454], 355: [355, 1455], 356: [356, 1456], 357: [357, 1457], 358: [358, 1458], 359: [359, 1459], 360: [360, 1460], 361: [361, 1461], 362: [362, 1462], 363: [363, 1463], 364: [364, 1464], 365: [365, 1465], 366: [366, 1466], 367: [367, 1467], 368: [368, 1468], 369: [369, 1469], 370: [370, 1470], 371: [371, 1471], 372: [372, 1472], 373: [373, 1473], 374: [374, 1474], 375: [375, 1475], 376: [376, 1476], 377: [377, 1477], 378: [378, 1478], 379: [379, 1479], 380: [380, 1480], 381: [381, 1481], 382: [382, 1482], 383: [383, 1483], 384: [384, 1484], 385: [385, 1485], 386: [386, 1486], 387: [387, 1487], 388: [388, 1488], 389: [389, 1489], 390: [390, 1490], 391: [391, 1491], 392: [392, 1492], 393: [393, 1493], 394: [394, 1494], 395: [395, 1495], 396: [396, 1496], 397: [397, 1497], 398: [398, 1498], 399: [399, 1499], 400: [400, 1500], 401: [401, 1501], 402: [402, 1502], 403: [403, 1503], 404: [404, 1504], 405: [405, 1505], 406: [406, 1506], 407: [407, 1507], 408: [408, 1508], 409: [409, 1509], 410: [410, 1510], 411: [411, 1511], 412: [412, 1512], 413: [413, 1513], 414: [414, 1514], 415: [415, 1515], 416: [416, 1516], 417: [417, 1517], 418: [418, 1518], 419: [419, 1519], 420: [420, 1520], 421: [421, 1521], 422: [422, 1522], 423: [423, 1523], 424: [424, 1524], 425: [425, 1525], 426: [426, 1526], 427: [427, 1527], 428: [428, 1528], 429: [429, 1529], 430: [430, 1530], 431: [431, 1531], 432: [432, 1532], 433: [433, 1533], 434: [434, 1534], 435: [435, 1535], 436: [436, 1536], 437: [437, 1537], 438: [438, 1538], 439: [439, 1539], 440: [440, 1540], 441: [441, 1541], 442: [442, 1542], 443: [443, 1543], 444: [444, 1544], 445: [445, 1545], 446: [446, 1546], 447: [447, 1547], 448: [448, 1548], 449: [449, 1549], 450: [450, 1550], 451: [451, 1551], 452: [452, 1552], 453: [453, 1553], 454: [454, 1554], 455: [455, 1555], 456: [456, 1556], 457: [457, 1557], 458: [458, 1558], 459: [459, 1559], 460: [460, 1560], 461: [461, 1561], 462: [462, 1562], 463: [463, 1563], 464: [464, 1564], 465: [465, 1565], 466: [466, 1566], 467: [467, 1567], 468: [468, 1568], 469: [469, 1569], 470: [470, 1570], 471: [471, 1571], 472: [472, 1572], 473: [473, 1573], 474: [474, 1574], 475: [475, 1575], 476: [476, 1576], 477: [477, 1577], 478: [478, 1578], 479: [479, 1579], 480: [480, 1580], 481: [481, 1581], 482: [482, 1582], 483: [483, 1583], 484: [484, 1584], 485: [485, 1585], 486: [486, 1586], 487: [487, 1587], 488: [488, 1588], 489: [489, 1589], 490: [490, 1590], 491: [491, 1591], 492: [492, 1592], 493: [493, 1593], 494: [494, 1594], 495: [495, 1595], 496: [496, 1596], 497: [497, 1597], 498: [498, 1598], 499: [499, 1599], 500: [500, 1600], 501: [501, 1601], 502: [502, 1602], 503: [503, 1603], 504: [504, 1604], 505: [505, 1605], 506: [506, 1606], 507: [507, 1607], 508: [508, 1608], 509: [509, 1609], 510: [510, 1610], 511: [511, 1611], 512: [512, 1612], 513: [513, 1613], 514: [514, 1614], 515: [515, 1615], 516: [516, 1616], 517: [517, 1617], 518: [518, 1618], 519: [519, 1619], 520: [520, 1620], 521: [521, 1621], 522: [522, 1622], 523: [523, 1623], 524: [524, 1624], 525: [525, 1625], 526: [526, 1626], 527: [527, 1627], 528: [528, 1628], 529: [529, 1629], 530: [530, 1630], 531: [531, 1631], 532: [532, 1632], 533: [533, 1633], 534: [534, 1634], 535: [535, 1635], 536: [536, 1636], 537: [537, 1637], 538: [538, 1638], 539: [539, 1639], 540: [540, 1640], 541: [541, 1641], 542: [542, 1642], 543: [543, 1643], 544: [544, 1644], 545: [545, 1645], 546: [546, 1646], 547: [547, 1647], 548: [548, 1648], 549: [549, 1649], 550: [550, 1650], 551: [551, 1651], 552: [552, 1652], 553: [553, 1653], 554: [554, 1654], 555: [555, 1655], 556: [556, 1656], 557: [557, 1657], 558: [558, 1658], 559: [559, 1659], 560: [560, 1660], 561: [561, 1661], 562: [562, 1662], 563: [563, 1663], 564: [564, 1664], 565: [565, 1665], 566: [566, 1666], 567: [567, 1667], 568: [568, 1668], 569: [569, 1669], 570: [570, 1670], 571: [571, 1671], 572: [572, 1672], 573: [573, 1673], 574: [574, 1674], 575: [575, 1675], 576: [576, 1676], 577: [577, 1677], 578: [578, 1678], 579: [579, 1679], 580: [580, 1680], 581: [581, 1681], 582: [582, 1682], 583: [583, 1683], 584: [584, 1684], 585: [585, 1685], 586: [586, 1686], 587: [587, 1687], 588: [588, 1688], 589: [589, 1689], 590: [590, 1690], 591: [591, 1691], 592: [592, 1692], 593: [593, 1693], 594: [594, 1694], 595: [595, 1695], 596: [596, 1696], 597: [597, 1697], 598: [598, 1698], 599: [599, 1699], 600: [600, 1700], 601: [601, 1701], 602: [602, 1702], 603: [603, 1703], 604: [604, 1704], 605: [605, 1705], 606: [606, 1706], 607: [607, 1707], 608: [608, 1708], 609: [609, 1709], 610: [610, 1710], 611: [611, 1711], 612: [612, 1712], 613: [613, 1713], 614: [614, 1714], 615: [615, 1715], 616: [616, 1716], 617: [617, 1717], 618: [618, 1718], 619: [619, 1719], 620: [620, 1720], 621: [621, 1721], 622: [622, 1722], 623: [623, 1723], 624: [624, 1724], 625: [625, 1725], 626: [626, 1726], 627: [627, 1727], 628: [628, 1728], 629: [629, 1729], 630: [630, 1730], 631: [631, 1731], 632: [632, 1732], 633: [633, 1733], 634: [634, 1734], 635: [635, 1735], 636: [636, 1736], 637: [637, 1737], 638: [638, 1738], 639: [639, 1739], 640: [640, 1740], 641: [641, 1741], 642: [642, 1742], 643: [643, 1743], 644: [644, 1744], 645: [645, 1745], 646: [646, 1746], 647: [647, 1747], 648: [648, 1748], 649: [649, 1749], 650: [650, 1750], 651: [651, 1751], 652: [652, 1752], 653: [653, 1753], 654: [654, 1754], 655: [655, 1755], 656: [656, 1756], 657: [657, 1757], 658: [658, 1758], 659: [659, 1759], 660: [660, 1760], 661: [661, 1761], 662: [662, 1762], 663: [663, 1763], 664: [664, 1764], 665: [665, 1765], 666: [666, 1766], 667: [667, 1767], 668: [668, 1768], 669: [669, 1769], 670: [670, 1770], 671: [671, 1771], 672: [672, 1772], 673: [673, 1773], 674: [674, 1774], 675: [675, 1775], 676: [676, 1776], 677: [677, 1777], 678: [678, 1778], 679: [679, 1779], 680: [680, 1780], 681: [681, 1781], 682: [682, 1782], 683: [683, 1783], 684: [684, 1784], 685: [685, 1785], 686: [686, 1786], 687: [687, 1787], 688: [688, 1788], 689: [689, 1789], 690: [690, 1790], 691: [691, 1791], 692: [692, 1792], 693: [693, 1793], 694: [694, 1794], 695: [695, 1795], 696: [696, 1796], 697: [697, 1797], 698: [698, 1798], 699: [699, 1799], 700: [700, 1800], 701: [701, 1801], 702: [702, 1802], 703: [703, 1803], 704: [704, 1804], 705: [705, 1805], 706: [706, 1806], 707: [707, 1807], 708: [708, 1808], 709: [709, 1809], 710: [710, 1810], 711: [711, 1811], 712: [712, 1812], 713: [713, 1813], 714: [714, 1814], 715: [715, 1815], 716: [716, 1816], 717: [717, 1817], 718: [718, 1818], 719: [719, 1819], 720: [720, 1820], 721: [721, 1821], 722: [722, 1822], 723: [723, 1823], 724: [724, 1824], 725: [725, 1825], 726: [726, 1826], 727: [727, 1827], 728: [728, 1828], 729: [729, 1829], 730: [730, 1830], 731: [731, 1831], 732: [732, 1832], 733: [733, 1833], 734: [734, 1834], 735: [735, 1835], 736: [736, 1836], 737: [737, 1837], 738: [738, 1838], 739: [739, 1839], 740: [740, 1840], 741: [741, 1841], 742: [742, 1842], 743: [743, 1843], 744: [744, 1844], 745: [745, 1845], 746: [746, 1846], 747: [747, 1847], 748: [748, 1848], 749: [749, 1849], 750: [750, 1850], 751: [751, 1851], 752: [752, 1852], 753: [753, 1853], 754: [754, 1854], 755: [755, 1855], 756: [756, 1856], 757: [757, 1857], 758: [758, 1858], 759: [759, 1859], 760: [760, 1860], 761: [761, 1861], 762: [762, 1862], 763: [763, 1863], 764: [764, 1864], 765: [765, 1865], 766: [766, 1866], 767: [767, 1867], 768: [768, 1868], 769: [769, 1869], 770: [770, 1870], 771: [771, 1871], 772: [772, 1872], 773: [773, 1873], 774: [774, 1874], 775: [775, 1875], 776: [776, 1876], 777: [777, 1877], 778: [778, 1878], 779: [779, 1879], 780: [780, 1880], 781: [781, 1881], 782: [782, 1882], 783: [783, 1883], 784: [784, 1884], 785: [785, 1885], 786: [786, 1886], 787: [787, 1887], 788: [788, 1888], 789: [789, 1889], 790: [790, 1890], 791: [791, 1891], 792: [792, 1892], 793: [793, 1893], 794: [794, 1894], 795: [795, 1895], 796: [796, 1896], 797: [797, 1897], 798: [798, 1898], 799: [799, 1899], 800: [800, 1900], 801: [801, 1901], 802: [802, 1902], 803: [803, 1903], 804: [804, 1904], 805: [805, 1905], 806: [806, 1906], 807: [807, 1907], 808: [808, 1908], 809: [809, 1909], 810: [810, 1910], 811: [811, 1911], 812: [812, 1912], 813: [813, 1913], 814: [814, 1914], 815: [815, 1915], 816: [816, 1916], 817: [817, 1917], 818: [818, 1918], 819: [819, 1919], 820: [820, 1920], 821: [821, 1921], 822: [822, 1922], 823: [823, 1923], 824: [824, 1924], 825: [825, 1925], 826: [826, 1926], 827: [827, 1927], 828: [828, 1928], 829: [829, 1929], 830: [830, 1930], 831: [831, 1931], 832: [832, 1932], 833: [833, 1933], 834: [834, 1934], 835: [835, 1935], 836: [836, 1936], 837: [837, 1937], 838: [838, 1938], 839: [839, 1939], 840: [840, 1940], 841: [841, 1941], 842: [842, 1942], 843: [843, 1943], 844: [844, 1944], 845: [845, 1945], 846: [846, 1946], 847: [847, 1947], 848: [848, 1948], 849: [849, 1949], 850: [850, 1950], 851: [851, 1951], 852: [852, 1952], 853: [853, 1953], 854: [854, 1954], 855: [855, 1955], 856: [856, 1956], 857: [857, 1957], 858: [858, 1958], 859: [859, 1959], 860: [860, 1960], 861: [861, 1961], 862: [862, 1962], 863: [863, 1963], 864: [864, 1964], 865: [865, 1965], 866: [866, 1966], 867: [867, 1967], 868: [868, 1968], 869: [869, 1969], 870: [870, 1970], 871: [871, 1971], 872: [872, 1972], 873: [873, 1973], 874: [874, 1974], 875: [875, 1975], 876: [876, 1976], 877: [877, 1977], 878: [878, 1978], 879: [879, 1979], 880: [880, 1980], 881: [881, 1981], 882: [882, 1982], 883: [883, 1983], 884: [884, 1984], 885: [885, 1985], 886: [886, 1986], 887: [887, 1987], 888: [888, 1988], 889: [889, 1989], 890: [890, 1990], 891: [891, 1991], 892: [892, 1992], 893: [893, 1993], 894: [894, 1994], 895: [895, 1995], 896: [896, 1996], 897: [897, 1997], 898: [898, 1998], 899: [899, 1999], 900: [900, 2000], 901: [901, 2001], 902: [902, 2002], 903: [903, 2003], 904: [904, 2004], 905: [905, 2005], 906: [906, 2006], 907: [907, 2007], 908: [908, 2008], 909: [909, 2009], 910: [910, 2010], 911: [911, 2011], 912: [912, 2012], 913: [913, 2013], 914: [914, 2014], 915: [915, 2015], 916: [916, 2016], 917: [917, 2017], 918: [918, 2018], 919: [919, 2019], 920: [920, 2020], 921: [921, 2021], 922: [922, 2022], 923: [923, 2023], 924: [924, 2024], 925: [925, 2025], 926: [926, 2026], 927: [927, 2027], 928: [928, 2028], 929: [929, 2029], 930: [930, 2030], 931: [931, 2031], 932: [932, 2032], 933: [933, 2033], 934: [934, 2034], 935: [935, 2035], 936: [936, 2036], 937: [937, 2037], 938: [938, 2038], 939: [939, 2039], 940: [940, 2040], 941: [941, 2041], 942: [942, 2042], 943: [943, 2043], 944: [944, 2044], 945: [945, 2045], 946: [946, 2046], 947: [947, 2047], 948: [948, 2048], 949: [949, 2049], 950: [950, 2050], 951: [951, 2051], 952: [952, 2052], 953: [953, 2053], 954: [954, 2054], 955: [955, 2055], 956: [956, 2056], 957: [957, 2057], 958: [958, 2058], 959: [959, 2059], 960: [960, 2060], 961: [961, 2061], 962: [962, 2062], 963: [963, 2063], 964: [964, 2064], 965: [965, 2065], 966: [966, 2066], 967: [967, 2067], 968: [968, 2068], 969: [969, 2069], 970: [970, 2070], 971: [971, 2071], 972: [972, 2072], 973: [973, 2073], 974: [974, 2074], 975: [975, 2075], 976: [976, 2076], 977: [977, 2077], 978: [978, 2078], 979: [979, 2079], 980: [980, 2080], 981: [981, 2081], 982: [982, 2082], 983: [983, 2083], 984: [984, 2084], 985: [985, 2085], 986: [986, 2086], 987: [987, 2087], 988: [988, 2088], 989: [989, 2089], 990: [990, 2090], 991: [991, 2091], 992: [992, 2092], 993: [993, 2093], 994: [994], 995: [995], 996: [996], 997: [997], 998: [998], 999: [999], 1000: [1000], 1001: [1001], 1002: [1002], 1003: [1003], 1004: [1004], 1005: [1005], 1006: [1006], 1007: [1007], 1008: [1008], 1009: [1009], 1010: [1010], 1011: [1011], 1012: [1012], 1013: [1013], 1014: [1014], 1015: [1015], 1016: [1016], 1017: [1017], 1018: [1018], 1019: [1019], 1020: [1020], 1021: [1021], 1022: [1022], 1023: [1023], 1024: [1024], 1025: [1025], 1026: [1026], 1027: [1027], 1028: [1028], 1029: [1029], 1030: [1030], 1031: [1031], 1032: [1032], 1033: [1033], 1034: [1034], 1035: [1035], 1036: [1036], 1037: [1037], 1038: [1038], 1039: [1039], 1040: [1040], 1041: [1041], 1042: [1042], 1043: [1043], 1044: [1044], 1045: [1045], 1046: [1046], 1047: [1047], 1048: [1048], 1049: [1049], 1050: [1050], 1051: [1051], 1052: [1052], 1053: [1053], 1054: [1054], 1055: [1055], 1056: [1056], 1057: [1057], 1058: [1058], 1059: [1059], 1060: [1060], 1061: [1061], 1062: [1062], 1063: [1063], 1064: [1064], 1065: [1065], 1066: [1066], 1067: [1067], 1068: [1068], 1069: [1069], 1070: [1070], 1071: [1071], 1072: [1072], 1073: [1073], 1074: [1074], 1075: [1075], 1076: [1076], 1077: [1077], 1078: [1078], 1079: [1079], 1080: [1080], 1081: [1081], 1082: [1082], 1083: [1083], 1084: [1084], 1085: [1085], 1086: [1086], 1087: [1087], 1088: [1088], 1089: [1089], 1090: [1090], 1091: [1091], 1092: [1092], 1093: [1093], 1094: [1094], 1095: [1095], 1096: [1096], 1097: [1097], 1098: [1098], 1099: [1099]}\n",
      "1100\n"
     ]
    }
   ],
   "source": [
    "# Read in HSS file\n",
    "hss = HssFile('igm-model_mcrb_2.5MB.hss', 'r')\n",
    "# First, we need to know which beads that represent the diffrent copies belong to the same bin in genome\n",
    "copy_index=hss.index.copy_index\n",
    "print(copy_index)\n",
    "print(len(copy_index))"
   ]
  },
  {
   "cell_type": "code",
   "execution_count": 10,
   "metadata": {},
   "outputs": [],
   "source": [
    "# get chromosome names, start and end positions of the bins\n",
    "index = hss.index\n",
    "index_chroms = index.chromstr\n",
    "index_starts = index.start\n",
    "index_ends = index.end"
   ]
  },
  {
   "cell_type": "code",
   "execution_count": 11,
   "metadata": {},
   "outputs": [],
   "source": [
    "crds=hss.coordinates\n",
    "# iterate keys over copy_index, and get the coordinates of the beads that belong to the same bin, \n",
    "# then get the average radials of the beads that belong to the same bin, write chr start end and average \n",
    "# radial to a file\n",
    "for bin in copy_index:\n",
    "    #get chr, start, end, of the bin\n",
    "    bead_0=copy_index[bin][0]\n",
    "    chr=index_chroms[bead_0]\n",
    "    start=index_starts[bead_0]\n",
    "    end=index_ends[bead_0]\n",
    "    #get the radials of the beads that belong to the same bin\n",
    "    radials = hss.getBeadRadialPositions(copy_index[bin], nucleusRadius=(3050, 2350, 2350))\n",
    "    #write chr start end and average radial to a file\n",
    "    with open('RAD.txt', 'a') as f:\n",
    "        f.write(chr+'\\t'+str(start)+'\\t'+str(end)+'\\t'+str(np.mean(radials))+'\\n')\n",
    "    f.close()"
   ]
  },
  {
   "attachments": {},
   "cell_type": "markdown",
   "metadata": {},
   "source": [
    "#### Variability of structual feature\n",
    "Now we know each genomic loci (bin) has an average radial position (RAD) in nucleus. Apart from the \"Mean\" of feature, Is there any other type of information we can get from the structure?"
   ]
  },
  {
   "attachments": {},
   "cell_type": "markdown",
   "metadata": {},
   "source": [
    "We may use standard deviation to measure the disperson of radials for a particular bin $i$ in individual structures\n",
    "$$\n",
    "\\sigma_i = \\sqrt{\\frac{1}{N}\\frac{1}{K}\\sum_{m=1}^{N}\\sum_{c=0}^{K}(r_{c,i,m} - RAD_i)^2}\n",
    "$$"
   ]
  },
  {
   "cell_type": "code",
   "execution_count": 12,
   "metadata": {},
   "outputs": [],
   "source": [
    "#compute the std of the radials of the beads that belong to the same bin\n",
    "for bin in copy_index:\n",
    "    #get chr, start, end, of the bin\n",
    "    bead_0=copy_index[bin][0]\n",
    "    chr=index_chroms[bead_0]\n",
    "    start=index_starts[bead_0]\n",
    "    end=index_ends[bead_0]\n",
    "    #get the radials of the beads that belong to the same bin\n",
    "    radials = hss.getBeadRadialPositions(copy_index[bin], nucleusRadius=(3050, 2350, 2350))\n",
    "    #write chr start end and average radial to a file\n",
    "    with open('RAD_std.txt', 'a') as f:\n",
    "        f.write(chr+'\\t'+str(start)+'\\t'+str(end)+'\\t'+str(np.std(radials))+'\\n')\n",
    "    f.close()"
   ]
  },
  {
   "attachments": {},
   "cell_type": "markdown",
   "metadata": {},
   "source": [
    "Is it possible to make the result more intuitive? We can do it by normalizing the $\\sigma_i$ by the mean of $\\sigma_i$ across genome ($\\sigma_g$). Furthermore, we may take a logarithmic scale to the result, thus a positive value would then indicate that $\\sigma_i$ for particular region $i$ exceeds the average variability across all bins in the genome, vice versa.\n",
    "$$\n",
    "\\sigma_g=\\frac{\\sum_{i=1}^{M}\\sigma_i}{M}\n",
    "$$\n",
    "Where $M$ is the total number of regions (bins) across genome, which depends on bin resolution and genome size.\n",
    "$$\n",
    "\\delta_i=\\log_2{\\frac{\\sigma_i}{\\sigma_g}}\n",
    "$$"
   ]
  },
  {
   "cell_type": "code",
   "execution_count": 13,
   "metadata": {},
   "outputs": [],
   "source": [
    "#first, we need compute the mean RAD across the genome\n",
    "#read the radial_std.txt, which contains the std of radial of each bin\n",
    "radial_std=pd.read_csv('RAD_std.txt', sep='\\t', header=None)\n",
    "#compute the mean RAD across the genome, which is the mean of the fourth column of the radial_std.txt\n",
    "mean_radial_std=np.mean(radial_std[3])\n",
    "\n",
    "#compute delta RAD of the bin\n",
    "for bin in copy_index:\n",
    "    #get chr, start, end, of the bin\n",
    "    bead_0=copy_index[bin][0]\n",
    "    chr=index_chroms[bead_0]\n",
    "    start=index_starts[bead_0]\n",
    "    end=index_ends[bead_0]\n",
    "    #get the radials of the beads that belong to the same bin\n",
    "    radials = hss.getBeadRadialPositions(copy_index[bin], nucleusRadius=(3050, 2350, 2350))\n",
    "    #write chr start end and average radial to a file\n",
    "    with open('deltaRAD.txt', 'a') as f:\n",
    "        f.write(chr+'\\t'+str(start)+'\\t'+str(end)+'\\t'+str(np.log2(np.std(radials)/mean_radial_std))+'\\n')\n",
    "    f.close()"
   ]
  },
  {
   "cell_type": "code",
   "execution_count": 17,
   "metadata": {},
   "outputs": [],
   "source": [
    "data=pd.read_csv('RAD.txt',sep='\\t',header=None)"
   ]
  },
  {
   "cell_type": "code",
   "execution_count": 18,
   "metadata": {},
   "outputs": [
    {
     "data": {
      "text/html": [
       "<div>\n",
       "<style scoped>\n",
       "    .dataframe tbody tr th:only-of-type {\n",
       "        vertical-align: middle;\n",
       "    }\n",
       "\n",
       "    .dataframe tbody tr th {\n",
       "        vertical-align: top;\n",
       "    }\n",
       "\n",
       "    .dataframe thead th {\n",
       "        text-align: right;\n",
       "    }\n",
       "</style>\n",
       "<table border=\"1\" class=\"dataframe\">\n",
       "  <thead>\n",
       "    <tr style=\"text-align: right;\">\n",
       "      <th></th>\n",
       "      <th>0</th>\n",
       "      <th>1</th>\n",
       "      <th>2</th>\n",
       "      <th>3</th>\n",
       "    </tr>\n",
       "  </thead>\n",
       "  <tbody>\n",
       "    <tr>\n",
       "      <th>0</th>\n",
       "      <td>chr1</td>\n",
       "      <td>0</td>\n",
       "      <td>2500000</td>\n",
       "      <td>0.853921</td>\n",
       "    </tr>\n",
       "    <tr>\n",
       "      <th>1</th>\n",
       "      <td>chr1</td>\n",
       "      <td>2500000</td>\n",
       "      <td>5000000</td>\n",
       "      <td>0.753380</td>\n",
       "    </tr>\n",
       "    <tr>\n",
       "      <th>2</th>\n",
       "      <td>chr1</td>\n",
       "      <td>5000000</td>\n",
       "      <td>7500000</td>\n",
       "      <td>0.735403</td>\n",
       "    </tr>\n",
       "    <tr>\n",
       "      <th>3</th>\n",
       "      <td>chr1</td>\n",
       "      <td>7500000</td>\n",
       "      <td>10000000</td>\n",
       "      <td>0.740301</td>\n",
       "    </tr>\n",
       "    <tr>\n",
       "      <th>4</th>\n",
       "      <td>chr1</td>\n",
       "      <td>10000000</td>\n",
       "      <td>12500000</td>\n",
       "      <td>0.766870</td>\n",
       "    </tr>\n",
       "    <tr>\n",
       "      <th>...</th>\n",
       "      <td>...</td>\n",
       "      <td>...</td>\n",
       "      <td>...</td>\n",
       "      <td>...</td>\n",
       "    </tr>\n",
       "    <tr>\n",
       "      <th>3295</th>\n",
       "      <td>chr21</td>\n",
       "      <td>80000000</td>\n",
       "      <td>82500000</td>\n",
       "      <td>0.847267</td>\n",
       "    </tr>\n",
       "    <tr>\n",
       "      <th>3296</th>\n",
       "      <td>chr21</td>\n",
       "      <td>82500000</td>\n",
       "      <td>85000000</td>\n",
       "      <td>0.842753</td>\n",
       "    </tr>\n",
       "    <tr>\n",
       "      <th>3297</th>\n",
       "      <td>chr21</td>\n",
       "      <td>85000000</td>\n",
       "      <td>87500000</td>\n",
       "      <td>0.718912</td>\n",
       "    </tr>\n",
       "    <tr>\n",
       "      <th>3298</th>\n",
       "      <td>chr21</td>\n",
       "      <td>87500000</td>\n",
       "      <td>90000000</td>\n",
       "      <td>0.551213</td>\n",
       "    </tr>\n",
       "    <tr>\n",
       "      <th>3299</th>\n",
       "      <td>chr21</td>\n",
       "      <td>90000000</td>\n",
       "      <td>92500000</td>\n",
       "      <td>0.683825</td>\n",
       "    </tr>\n",
       "  </tbody>\n",
       "</table>\n",
       "<p>3300 rows × 4 columns</p>\n",
       "</div>"
      ],
      "text/plain": [
       "          0         1         2         3\n",
       "0      chr1         0   2500000  0.853921\n",
       "1      chr1   2500000   5000000  0.753380\n",
       "2      chr1   5000000   7500000  0.735403\n",
       "3      chr1   7500000  10000000  0.740301\n",
       "4      chr1  10000000  12500000  0.766870\n",
       "...     ...       ...       ...       ...\n",
       "3295  chr21  80000000  82500000  0.847267\n",
       "3296  chr21  82500000  85000000  0.842753\n",
       "3297  chr21  85000000  87500000  0.718912\n",
       "3298  chr21  87500000  90000000  0.551213\n",
       "3299  chr21  90000000  92500000  0.683825\n",
       "\n",
       "[3300 rows x 4 columns]"
      ]
     },
     "execution_count": 18,
     "metadata": {},
     "output_type": "execute_result"
    }
   ],
   "source": [
    "data"
   ]
  },
  {
   "cell_type": "code",
   "execution_count": 19,
   "metadata": {},
   "outputs": [
    {
     "data": {
      "image/png": "[encoded data removed]",
      "text/plain": [
       "<Figure size 432x288 with 1 Axes>"
      ]
     },
     "metadata": {
      "needs_background": "light"
     },
     "output_type": "display_data"
    }
   ],
   "source": [
    "#plot the delta RAD for chr2\n",
    "chr2=data[data[0]=='chr2']\n",
    "chr2_coord=chr2[1]/1000000\n",
    "chr2_radial=chr2[3]\n",
    "plt.plot(chr2_coord,chr2_radial)\n",
    "plt.xlabel('chr2 coordinate (Mb)')\n",
    "plt.ylabel('RAD')\n",
    "plt.ylim(0.5,0.9)\n",
    "plt.show()"
   ]
  },
  {
   "cell_type": "code",
   "execution_count": 10,
   "metadata": {},
   "outputs": [
    {
     "data": {
      "image/png": "[encoded data removed]",
      "text/plain": [
       "<Figure size 432x288 with 1 Axes>"
      ]
     },
     "metadata": {
      "needs_background": "light"
     },
     "output_type": "display_data"
    }
   ],
   "source": [
    "#What about chr4?\n",
    "#plot the delta RAD for chr2\n",
    "chr4=data[data[0]=='chr4']\n",
    "chr4_coord=chr4[1]/1000000\n",
    "chr4_radial=chr4[3]\n",
    "plt.plot(chr4_coord,chr4_radial)\n",
    "plt.xlabel('chr4 coordinate (Mb)')\n",
    "plt.ylabel('RAD')\n",
    "plt.ylim(0.5,0.9)\n",
    "plt.show()"
   ]
  },
  {
   "cell_type": "code",
   "execution_count": 11,
   "metadata": {},
   "outputs": [
    {
     "data": {
      "text/plain": [
       "(0.5, 0.9)"
      ]
     },
     "execution_count": 11,
     "metadata": {},
     "output_type": "execute_result"
    },
    {
     "data": {
      "image/png": "[encoded data removed]",
      "text/plain": [
       "<Figure size 432x288 with 1 Axes>"
      ]
     },
     "metadata": {
      "needs_background": "light"
     },
     "output_type": "display_data"
    }
   ],
   "source": [
    "#We can plot chr2 and chr4 together\n",
    "plt.plot(chr2_coord,chr2_radial,label='chr2')\n",
    "plt.plot(chr4_coord,chr4_radial,label='chr4')\n",
    "plt.xlabel('chr coordinate (Mb)')\n",
    "plt.ylabel('RAD')\n",
    "plt.legend()\n",
    "plt.ylim(0.5,0.9)"
   ]
  },
  {
   "cell_type": "code",
   "execution_count": 12,
   "metadata": {},
   "outputs": [
    {
     "data": {
      "text/plain": [
       "'/u/home/w/wyeast/IGM_tutorial'"
      ]
     },
     "execution_count": 12,
     "metadata": {},
     "output_type": "execute_result"
    }
   ],
   "source": [
    "import os\n",
    "os.getcwd()"
   ]
  },
  {
   "attachments": {},
   "cell_type": "markdown",
   "metadata": {},
   "source": [
    "### Practice\n",
    "Can you plot the delta RAD for chr2 and chr4?"
   ]
  },
  {
   "attachments": {},
   "cell_type": "markdown",
   "metadata": {},
   "source": [
    "### Interior localization frequency (ILF)"
   ]
  },
  {
   "attachments": {},
   "cell_type": "markdown",
   "metadata": {},
   "source": [
    "For a given chromatin region $i$, the interior localization frequency (ILF) is calculated as:\n",
    "$$\n",
    "ILF_i=\\frac{n_{r<0.5}}{N}\n",
    "$$\n",
    "where $ILF_i$ is the number of structures where either copy of the region $i$ has a radial position lower than 0.5, and $N$ is the total number of structures in our population. 0.5 is a empirical threshold of $RAD$, can be adjusted based on how you define a regions is within \"interior\" nucleus."
   ]
  },
  {
   "cell_type": "code",
   "execution_count": 13,
   "metadata": {},
   "outputs": [],
   "source": [
    "\n",
    "#compute ILF of the bin\n",
    "for bin in copy_index:\n",
    "    #get chr, start, end, of the bin\n",
    "    bead_0=copy_index[bin][0]\n",
    "    chr=index_chroms[bead_0]\n",
    "    start=index_starts[bead_0]\n",
    "    end=index_ends[bead_0]\n",
    "    #get the radials of the beads that belong to the same bin\n",
    "    radials = hss.getBeadRadialPositions(copy_index[bin], nucleusRadius=(3050, 2350, 2350))\n",
    "    #get the boolean array showing if bead radial < 0.5\n",
    "    interior_boolean=radials<0.5\n",
    "    #we need to compute the ILF of the bin, and at least one bead belong to this bin has radial < 0.5\n",
    "    new_array = np.any(interior_boolean, axis=0)\n",
    "    ILF=np.sum(new_array)/new_array.size\n",
    "    with open('ILF.txt', 'a') as f:\n",
    "        f.write(chr+'\\t'+str(start)+'\\t'+str(end)+'\\t'+str(ILF)+'\\n')"
   ]
  },
  {
   "attachments": {},
   "cell_type": "markdown",
   "metadata": {},
   "source": [
    "Let's break it down and see what happens in each step"
   ]
  },
  {
   "cell_type": "code",
   "execution_count": 15,
   "metadata": {},
   "outputs": [
    {
     "data": {
      "text/plain": [
       "array([[ True, False,  True, False],\n",
       "       [ True,  True,  True, False]])"
      ]
     },
     "execution_count": 15,
     "metadata": {},
     "output_type": "execute_result"
    }
   ],
   "source": [
    "\n",
    "radials=np.array([[0.1,0.6,0.1,0.6],\n",
    " [0.1,0.1,0.1,0.6]])\n",
    "interior_boolean=radials<0.5\n",
    "interior_boolean\n"
   ]
  },
  {
   "attachments": {},
   "cell_type": "markdown",
   "metadata": {},
   "source": [
    "### Question\n",
    "Usually $ILF$ should be correlated to $RAD$. A region with small $RAD$ usually has large $ILF$. So why we need to come up with the concept of $ILF$? Can you come up with a senario where those two concept represent different aspects of a chromatin region?"
   ]
  },
  {
   "attachments": {},
   "cell_type": "markdown",
   "metadata": {},
   "source": [
    "### Exersice\n",
    "Plot the $ILF$ and $RAD$ of chr2 at the same plot. Set the yscale as (0,0.9). What information can you get from this plot?"
   ]
  },
  {
   "attachments": {},
   "cell_type": "markdown",
   "metadata": {},
   "source": [
    "### Nuclear-body association frequencies (SAF, LAF, NAF)"
   ]
  },
  {
   "attachments": {},
   "cell_type": "markdown",
   "metadata": {},
   "source": [
    "For a given 200-kb genomic region $i$, the association frequency to nuclear bodies (SAF, LAF, and NAF for speckle,\n",
    "1034 lamina, and nucleoli association frequencies, respectively) are calculated as:\n",
    "$$\n",
    "SAF (or LAF or NAF)_i=\\frac{n_{d_i<d_t}+n_{d_{i^\\prime}<d_t}}{2N}\n",
    "$$\n",
    "$N$ is the total number of structures in our population. $n_{d_i<d_t}$ and $n_{d_{i^\\prime}<d_t}$ are the number of structures, in which region $i$ and its homologous copy $i^\\prime$ have a distance to the nuclear body of interest (NB) smaller than the association threshold , $d_t$. The $d_t$ s are set to 500 nm, 0.2 $\\times R_{nuc}$, and 1000 nm for SAF, LAF, and NAF, respectively."
   ]
  },
  {
   "attachments": {},
   "cell_type": "markdown",
   "metadata": {},
   "source": [
    "### How to get the position of speckle, nucleolus and lamina?"
   ]
  },
  {
   "attachments": {},
   "cell_type": "markdown",
   "metadata": {},
   "source": [
    "\n",
    "For $SAF$ and $NAF$ calculations, we use the predicted speckle and nucleolus partitions\n",
    "to calculate distances (see Identifying spatial partitions via Markov clustering). For $LAF$, we use the direct\n",
    "distances of regions to the nuclear envelope. For all association frequency calculations, we calculate\n",
    "distances from the surface of the region to the center-of-mass of the partition or to the surface of the nuclear envelope.\n"
   ]
  },
  {
   "attachments": {},
   "cell_type": "markdown",
   "metadata": {},
   "source": [
    "### Lamina association frequencies (LAF)"
   ]
  },
  {
   "attachments": {},
   "cell_type": "markdown",
   "metadata": {},
   "source": [
    "$LAF$ is easy to compute, since for a given genomic bin $i$, we only need to compute the fraction of beads whose radial are larger than the threshold (like 0.8 $R$)"
   ]
  },
  {
   "cell_type": "code",
   "execution_count": 16,
   "metadata": {},
   "outputs": [],
   "source": [
    "\n",
    "#compute LAF of the bin\n",
    "for bin in copy_index:\n",
    "    #get chr, start, end, of the bin\n",
    "    bead_0=copy_index[bin][0]\n",
    "    chr=index_chroms[bead_0]\n",
    "    start=index_starts[bead_0]\n",
    "    end=index_ends[bead_0]\n",
    "    #get the radials of the beads that belong to the same bin\n",
    "    radials = hss.getBeadRadialPositions(copy_index[bin], nucleusRadius=(3050, 2350, 2350))\n",
    "    #get the boolean array showing if bead radial > 0.8\n",
    "    lamina_boolean=radials>0.8\n",
    "    #compute LAF\n",
    "    LAF=np.sum(lamina_boolean)/lamina_boolean.size\n",
    "    with open('LAF.txt', 'a') as f:\n",
    "        f.write(chr+'\\t'+str(start)+'\\t'+str(end)+'\\t'+str(LAF)+'\\n')"
   ]
  },
  {
   "attachments": {},
   "cell_type": "markdown",
   "metadata": {},
   "source": [
    "### Speckle association frequencies (SAF)"
   ]
  },
  {
   "attachments": {},
   "cell_type": "markdown",
   "metadata": {},
   "source": [
    "To compute $SAF$, first we need to predict the position of nuclear speckles. The way we do it is \n",
    "1. Identify Speckle-Related Regions:\n",
    "First, you identify the genomic regions that are highly related to speckle. These regions might be detected through some statistical or biological analysis, mapping specific genomic features to speckles.\n",
    "2. Markov Clustering (MC) Algorithm:\n",
    "For a given chromatin structure, you apply the Markov Clustering algorithm to identify if the speckle-related regions tend to cluster together in that structure. These clusters are then defined as speckle partitions, or simply as speckles.\n",
    "3. Calculate the SAF:\n",
    "    To calculate the SAF for a specific genomic region, you:\n",
    "    - a. Measure Distance: Determine the distance of the genomic region to the center of the nearest speckle.\n",
    "    - b. Apply Threshold: Check if the distance is smaller than a predefined threshold.\n",
    "    - c. Compute SAF: Calculate how many of these regions meet the threshold criteria among a population of structures. Finally, divide this number by 2N, where N is the total number of genomic regions."
   ]
  },
  {
   "cell_type": "code",
   "execution_count": 34,
   "metadata": {},
   "outputs": [],
   "source": [
    "# First we identify the genomic regions that related to speckle (since we don't have more experimental data to help us\n",
    "# figure out the location of speckle (like TSA-seq), we simply use the interior regions ($RAD<0.5$) as the speckle regions)\n",
    "#read the radial.txt, which contains the RAD of each bin\n",
    "RAD=pd.read_csv('RAD.txt', sep='\\t', header=None)\n",
    "RAD[4]='OUT'\n",
    "#set the bins with RAD<0.5 as interior bins, modify the 4th column of the dataframe as 'IN'\n",
    "RAD.loc[RAD[3]<0.5,4]='IN'\n",
    "RAD\n",
    "#keep the column 0,1,2,4\n",
    "interior=RAD[[0,1,2,4]]\n",
    "#output the interior bins\n",
    "interior.to_csv('interior.txt', sep='\\t', header=None, index=None)"
   ]
  },
  {
   "cell_type": "code",
   "execution_count": 35,
   "metadata": {},
   "outputs": [],
   "source": [
    "#Now we have the speckle regions, however it is haploid, we need to make it diploid, first we read the haploid speckle regions\n",
    "interior_hap = pd.read_csv('interior.txt', sep='\\t', header=None)[3].values.astype(str)"
   ]
  },
  {
   "cell_type": "code",
   "execution_count": 37,
   "metadata": {},
   "outputs": [],
   "source": [
    "#define a function to adapt a haploid track to a multiploid index (include the case of diploid index)\n",
    "def adapt_to_index(hap_track, index):\n",
    "    \"\"\"Given a haploid track, adapts it to the multi-ploid index.\n",
    "\n",
    "    Args:\n",
    "        hap_track (np.ndarray(nbead_hap)): haplotype track\n",
    "        index (alabtools.utils.Index): index object\n",
    "    Return:\n",
    "        np.ndarray(nbeads): adapted track\n",
    "    \"\"\"\n",
    "    multi_track = np.zeros(len(index), dtype=hap_track.dtype)\n",
    "    for i in index.copy_index:\n",
    "        # copy_index is a Dictionary, where:\n",
    "        # - keys are haploid indices (0, 1, 2, ..., nbead_hap - 1)\n",
    "        # - values are the multiploid indices for the corresponding haploid index\n",
    "        # for examples {0: [0, 1000], 1: [1, 1001], ...}\n",
    "        multi_track[index.copy_index[i]] = hap_track[i]\n",
    "    return multi_track\n",
    "\n"
   ]
  },
  {
   "cell_type": "code",
   "execution_count": null,
   "metadata": {},
   "outputs": [],
   "source": [
    "#can you recall what is index object? Let's see\n",
    "print(len(index))\n",
    "index.chrom"
   ]
  },
  {
   "cell_type": "code",
   "execution_count": null,
   "metadata": {},
   "outputs": [],
   "source": [
    "#convert the haploid speckle tags to diploid speckle tags\n",
    "interior_dip=adapt_to_index(interior_hap, index)\n",
    "print(interior_hap)\n",
    "print(len(interior_hap))\n",
    "print(interior_dip)\n",
    "print(len(interior_dip))"
   ]
  },
  {
   "cell_type": "code",
   "execution_count": 22,
   "metadata": {},
   "outputs": [
    {
     "data": {
      "text/plain": [
       "{'IN': array([False, False, False, ..., False, False, False])}"
      ]
     },
     "execution_count": 22,
     "metadata": {},
     "output_type": "execute_result"
    }
   ],
   "source": [
    "#use a dictionary to save the boolean array for each state\n",
    "table = {}\n",
    "AllStates = np.array(['IN'])\n",
    "\n",
    "for s in AllStates:\n",
    "    table[s] = interior_dip==s\n",
    "\n",
    "table"
   ]
  },
  {
   "attachments": {},
   "cell_type": "markdown",
   "metadata": {},
   "source": [
    "Now let's do Markov clustering to compute speckle partitions for a single structure as an example"
   ]
  },
  {
   "cell_type": "code",
   "execution_count": 23,
   "metadata": {},
   "outputs": [
    {
     "data": {
      "text/plain": [
       "array([(0,), (1,), (2,), ..., (2091,), (2092,), (2093,)], dtype=object)"
      ]
     },
     "execution_count": 23,
     "metadata": {},
     "output_type": "execute_result"
    }
   ],
   "source": [
    "\n",
    "# The primairy goal of this tutorial is to identify the speckle associated regions that are in close proximity to each other in the 3D space of the nucleus.\n",
    "# First we create a 2D boolean matrix 'dist_close' indicating which pairs of genomic regions are \"closed enough\".\n",
    "\n",
    "# Extract the coordinates for the first structure from the 'crds' array\n",
    "str_crd = crds[:, 0, :]\n",
    "\n",
    "# Compute the Euclidean distance between all pairs of coordinates in 'str_crd'\n",
    "dist = distance.cdist(str_crd, str_crd, 'euclidean')\n",
    "\n",
    "# Compute the 'dcap' 2D array saving the thresholds of pair-wise distances, \n",
    "# Each value in this array is by taking the distance between radii, multiplied by 2\n",
    "dcap = distance.cdist(hss.radii[:,None], -hss.radii[:,None]) * 2\n",
    "\n",
    "# Create a 2D boolean matrix 'dist_close' indicating which pairs of genomic regions are \"closed enough\"\n",
    "# \"closed enough\" means their distance are less than or equal to the correspoding 'dcap' value\n",
    "dist_close = dist <= dcap\n",
    "\n",
    "# Initialize a boolean matrix 'ms' with the same shape as 'dist_close', filled with False values\n",
    "ms = np.zeros(dist_close.shape, dtype=bool)\n",
    "\n",
    "# Then we create a 2D boolean array cellids indicating which pairs of genomic regions are both belong to \"speckle\".\n",
    "cellids = table['IN'][None, :] & table['IN'][:, None]\n",
    "\n",
    "# Now ms is a 2D boolean matrix indicating which pairs of genomic regions are both belong to \"speckle\" and \"closed enough\".\n",
    "ms = dist_close & cellids\n",
    "\n",
    "# Convert the boolean matrix 'ms' into a graph using NetworkX\n",
    "G = nx.from_numpy_matrix(ms)\n",
    "\n",
    "# Convert the graph 'G' into a sparse matrix representation using SciPy\n",
    "matrix = nx.to_scipy_sparse_matrix(G)\n",
    "\n",
    "# Run the Markov Clustering (MCL) algorithm on the sparse matrix with a specified inflation value of 1.4\n",
    "result = mc.run_mcl(matrix, inflation=1.4)\n",
    "\n",
    "# Retrieve the clusters from the MCL result and convert them into a NumPy array\n",
    "clusters = np.array(mc.get_clusters(result))\n",
    "\n",
    "clusters"
   ]
  },
  {
   "cell_type": "code",
   "execution_count": 24,
   "metadata": {},
   "outputs": [
    {
     "data": {
      "text/plain": [
       "array([(404, 405, 406, 407, 408, 409, 410, 411, 412, 413, 414, 417, 418, 419, 420),\n",
       "       (903, 1504, 1505, 1506, 1507, 1508, 1509, 1510, 1511, 1512, 1513, 1514, 1517, 1518, 1519, 1520, 2003, 2070, 2071, 2072),\n",
       "       (970, 971, 972)], dtype=object)"
      ]
     },
     "execution_count": 24,
     "metadata": {},
     "output_type": "execute_result"
    }
   ],
   "source": [
    "#We may further filter the clusters to remove singletons:\n",
    "clusters = clusters[np.array([len(c) > 1 for c in clusters])]\n",
    "clusters"
   ]
  },
  {
   "cell_type": "code",
   "execution_count": 26,
   "metadata": {},
   "outputs": [],
   "source": [
    "#save the clusters\n",
    "cs = open('speckle_clusters_struc_0.dat', 'wb')\n",
    "pickle.dump(clusters, cs)\n",
    "cs.close()"
   ]
  },
  {
   "attachments": {},
   "cell_type": "markdown",
   "metadata": {},
   "source": [
    "After we get speckle clusters, next it would be very easy to compute the distance to the nearest speckle for each genomic region in every structure. "
   ]
  },
  {
   "cell_type": "code",
   "execution_count": 28,
   "metadata": {},
   "outputs": [],
   "source": [
    "#compute the centroids of each cluster from str_crd\n",
    "cluster_centroids = []\n",
    "for cluster in clusters:\n",
    "    cluster_centroid=np.mean(str_crd[np.array(cluster)],axis=0) #str_crd is the coordinates of structure 0\n",
    "    cluster_centroids.append(cluster_centroid)\n",
    "    \n",
    "dist_to_spec = cdist(str_crd, cluster_centroids)"
   ]
  },
  {
   "cell_type": "code",
   "execution_count": null,
   "metadata": {},
   "outputs": [],
   "source": [
    "# dist_to_spec shape is # (nbead, nspeckle), every row is a genomic region, and every column is the center of a speckle,\n",
    "# each element represents the distance between the genomic region and the speckle center.\n",
    "dist_to_spec"
   ]
  },
  {
   "cell_type": "code",
   "execution_count": null,
   "metadata": {},
   "outputs": [],
   "source": [
    "#The smallest distance among each row is the distance to the nearest speckle\n",
    "dist_to_nearest_spec=np.min(dist_to_spec,axis=1)\n",
    "dist_to_nearest_spec #shape is (nbead,)"
   ]
  },
  {
   "attachments": {},
   "cell_type": "markdown",
   "metadata": {},
   "source": [
    "This the result for a single structure, once we have the result for all structure, we may use it to further compute $SpD$ and $SAF$. Use the same rationale we may compute nucleolus related features like $NuD$ and $NAF$"
   ]
  },
  {
   "cell_type": "code",
   "execution_count": 41,
   "metadata": {},
   "outputs": [],
   "source": [
    "# To compute the SpD we need nearest speckle distances array for every structures, we cheating here to repeate the result for first structure for #nstruc times\n",
    "nstruc=crds.shape[1]\n",
    "dist_to_nearest_spec_all_struc=np.column_stack([dist_to_nearest_spec] * nstruc) # dist_to_nearest_spec_all_struc shape is (nbeads, nstruc)\n",
    "#Then SpD is simply the mean of the dist_to_nearest_spec_all_struc over the columns\n",
    "spd=np.mean(dist_to_nearest_spec_all_struc,axis=1) # spd shape is (nbeads,)\n",
    "#output the spd to a file\n",
    "spd_df = pd.DataFrame(spd)\n",
    "spd_df.to_csv('SpD.txt', sep='\\t', header=None, index=None)"
   ]
  },
  {
   "attachments": {},
   "cell_type": "markdown",
   "metadata": {},
   "source": [
    "### Predicted TSA-seq"
   ]
  },
  {
   "attachments": {},
   "cell_type": "markdown",
   "metadata": {},
   "source": [
    "To predict TSA-seq signals for speckle, nucleoli, and lamina for a given region $i$, we use the following equation:\n",
    "$$\n",
    "sig_i = \\frac{1}{M}\\sum_{m=1}^{M}\\sum_{l=1}^{L}e^{-\\alpha ||d_{il}||} \n",
    "$$"
   ]
  },
  {
   "attachments": {},
   "cell_type": "markdown",
   "metadata": {},
   "source": [
    "Where $M$ is the number of models, $L$ is the number of predicted speckle locations in structure $m$, $d_{il}$ is the distance between the region $i$ and the predicted nuclear body location $l$, and $\\alpha$ is the estimated decay constant in the TSA-seq experiment"
   ]
  },
  {
   "cell_type": "code",
   "execution_count": null,
   "metadata": {},
   "outputs": [],
   "source": [
    "# tsa_alpha is the estimated decay constant\n",
    "tsa_alpha=0.004\n",
    "# The TSA signal is then taken as a negative exponential of the distances to speckle previously computed\n",
    "speckle_tsa = np.sum(np.exp(- tsa_alpha * dist_to_spec), axis=1)  # (nbead,)  CHECK SUM, MEAN OR MIN"
   ]
  },
  {
   "attachments": {},
   "cell_type": "markdown",
   "metadata": {},
   "source": [
    "After compute the TSA-seq signal we normalize it by the mean signal calculated from all regions in the genome"
   ]
  },
  {
   "attachments": {},
   "cell_type": "markdown",
   "metadata": {},
   "source": [
    "$$\n",
    "predicted\\;\\;TSAseq\\;\\;signal_i = log (\\frac{sig_i}{\\overline{sig}})\n",
    "$$"
   ]
  },
  {
   "attachments": {},
   "cell_type": "markdown",
   "metadata": {},
   "source": [
    "where $\\overline{sig}$ is the mean signal calculated from all regions in the genome. The predicted signal is then averaged over two copies for each region"
   ]
  },
  {
   "attachments": {},
   "cell_type": "markdown",
   "metadata": {},
   "source": [
    "### Radius of gyration (RG) of chromatin fiber "
   ]
  },
  {
   "attachments": {},
   "cell_type": "markdown",
   "metadata": {},
   "source": [
    "The local compaction of the chromatin fiber at the location of a given locus is estimated by the radius of gyration (RG) for a range centered at the locus (i.e. comprising +500kb up- and 500 kb downstream of the given locus). To estimate the RG values along an entire chromosome we use a sliding window approach over all chromatin regions in a chromosome."
   ]
  },
  {
   "attachments": {},
   "cell_type": "markdown",
   "metadata": {},
   "source": [
    "The RG for a 1 Mb region centered at locus i in structure m, is calculated as:\n",
    "$$\n",
    "RG_{i,m} = \\sum_{j=1}^{N}{d_{j}^2}\n",
    "$$\n"
   ]
  },
  {
   "attachments": {},
   "cell_type": "markdown",
   "metadata": {},
   "source": [
    "where $N$ is the number of chromatin regions in the given window, and $d$, is the distance between the chromatin region $j$ to the center of mass of all chromatin regions in this window."
   ]
  },
  {
   "cell_type": "code",
   "execution_count": null,
   "metadata": {},
   "outputs": [],
   "source": [
    " # initialize the gyration radius array\n",
    "gyr = []\n",
    "# define the window size, 5 means each window contains 5 beads\n",
    "window = 5\n",
    "# loop over the beads and calculate the gyration radius\n",
    "for i in range(hss.nbead):\n",
    "    # get start and end of the window\n",
    "    s = i - int((window - 1) / 2)\n",
    "    e = i + int((window - 1) / 2)\n",
    "    # check if the window is out of the structure\n",
    "    if s < 0 or e > hss.nbead - 1:\n",
    "        gyr.append(np.nan)\n",
    "        continue\n",
    "    # check if the window is out of the chromosome\n",
    "    if hss.index.chrom[s] != hss.index.chrom[e]:\n",
    "        gyr.append(np.nan)\n",
    "        continue\n",
    "    # calculate the gyration radius\n",
    "    gyr.append(alabtools.geo.RadiusOfGyration(str_crd[s:e, :], hss.radii[s:e]))\n"
   ]
  },
  {
   "attachments": {},
   "cell_type": "markdown",
   "metadata": {},
   "source": [
    "### Mean inter-chromosomal neighborhood probability (ICP)"
   ]
  },
  {
   "attachments": {},
   "cell_type": "markdown",
   "metadata": {},
   "source": [
    "For each target chromatin region $i$, we define the neighborhood ${j}$ if the center-to-center distances of regions  ${j}$ to the target region are smaller than 500 nm, which can be expressed as a set $n(i) = \\{j: j\\neq i, d_{ij} < 500nm\\}$. Inter-chromosomal neighborhood probability (ICP) is then calculated as:"
   ]
  },
  {
   "attachments": {},
   "cell_type": "markdown",
   "metadata": {},
   "source": [
    "$$\n",
    "ICP_I = \\frac{1}{2M}\\sum_{m=1}^{M}\\sum_{l=1}^{2}\\frac{n_{inter}(m,i)}{n_{inter}(m,i)+n_{intra}(m,i)}\n",
    "$$"
   ]
  },
  {
   "attachments": {},
   "cell_type": "markdown",
   "metadata": {},
   "source": [
    "where $M$ is the number of structures, $n_{intra}(m,i)$ and $n_{inter}(m,i)$ are the number of intra- and inter- chromosomal regions in the set $n(i)$ in structure $m$ for haploid region $i$"
   ]
  },
  {
   "cell_type": "code",
   "execution_count": null,
   "metadata": {},
   "outputs": [],
   "source": [
    "# Here is the code to compute icp for a single structure\n",
    "dist_thresh=500 # distance threshold for proximity matrix\n",
    "# Find the inter-chromosomal matrix (inter_ij = True if i and j are on different chromosomal alleles)\n",
    "inter = hss.index.chrom[:, None] != hss.index.chrom[None, :]\n",
    "# Get proximity matrix, whose shape is (nbead, nbead) \n",
    "prox = cdist(str_crd, str_crd, 'euclidean') < dist_thresh\n",
    "# Set proximity matrix diagonal to False (bead is not in proximity with itself)\n",
    "np.fill_diagonal(prox, False)\n",
    "# Combine inter and prox matrices\n",
    "inter_prox = np.logical_and(inter, prox)\n",
    "# Get Inter-chromosomal contact ratio for a single structure\n",
    "inter_ratio = np.sum(inter_prox, axis=1) / np.sum(prox, axis=1)"
   ]
  },
  {
   "attachments": {},
   "cell_type": "markdown",
   "metadata": {},
   "source": [
    "### Median trans A/B ratio (TransAB)"
   ]
  },
  {
   "attachments": {},
   "cell_type": "markdown",
   "metadata": {},
   "source": [
    "For each target chromatin region $i$, we define the trans neighborhood ${j}$ if the center-to-center distances of regions  ${j}$ to the target region are smaller than 500 nm, which can be expressed as a set $n^t(i) = \\{j: chrom_j\\neq chrom_i, d_{ij} < 500nm\\}$. Trans A/B ratio is then calculated as:"
   ]
  },
  {
   "attachments": {},
   "cell_type": "markdown",
   "metadata": {},
   "source": [
    "$$\n",
    "trans\\;\\;AB\\;\\;ratio_i=\\frac{n_A^t}{n_A^t+n_B^t}\n",
    "$$"
   ]
  },
  {
   "attachments": {},
   "cell_type": "markdown",
   "metadata": {},
   "source": [
    "where $n_A^t$ and $n_B^t$ are the number of trans A and B regions in the set $n^t(i)$ for haploid region $i$. The median of the trans A/B ratios for a region is then calculated from all the trans A/B ratios of the homologous copies of the region observed in all the structures of the population"
   ]
  },
  {
   "cell_type": "code",
   "execution_count": null,
   "metadata": {},
   "outputs": [
    {
     "name": "stderr",
     "output_type": "stream",
     "text": [
      "/u/home/w/wyeast/.local/lib/python3.6/site-packages/ipykernel_launcher.py:13: RuntimeWarning: invalid value encountered in true_divide\n",
      "  del sys.path[0]\n"
     ]
    }
   ],
   "source": [
    "# Here is the code to compute transab for a single structure\n",
    "# First we simulate the A/B compartment annotations for all genomic bins, \n",
    "# usually this annotation is read from a file that saves the haploid genome-wide A/B compartment annotations (need to be converted to diploid by adapt_to_index function)\n",
    "ab=np.random.choice(['A', 'B'], size=len(str_crd))\n",
    "# Then we compute the transab score for each genomic bin\n",
    "# Get the Trans AB matrices\n",
    "ab = adapt_to_index(ab, hss.index)  # adapt AB track to multi-ploid index\n",
    "ab_vstack = np.vstack([ab] * len(ab))  # convert AB track to a vertical stack (attention: not symmetric!)\n",
    "transA = np.logical_and(inter_prox, ab_vstack == 'A')\n",
    "transB = np.logical_and(inter_prox, ab_vstack == 'B')\n",
    "\n",
    "# Get TransAB ratio\n",
    "transAB_ratio = np.sum(transA, axis=1) / (np.sum(transA, axis=1) + np.sum(transB, axis=1))\n"
   ]
  },
  {
   "cell_type": "code",
   "execution_count": null,
   "metadata": {},
   "outputs": [
    {
     "data": {
      "text/plain": [
       "array([['A', 'B', 'B', ..., 'B', 'A', 'A'],\n",
       "       ['A', 'B', 'B', ..., 'B', 'A', 'A'],\n",
       "       ['A', 'B', 'B', ..., 'B', 'A', 'A'],\n",
       "       ...,\n",
       "       ['A', 'B', 'B', ..., 'B', 'A', 'A'],\n",
       "       ['A', 'B', 'B', ..., 'B', 'A', 'A'],\n",
       "       ['A', 'B', 'B', ..., 'B', 'A', 'A']], dtype='<U1')"
      ]
     },
     "execution_count": 62,
     "metadata": {},
     "output_type": "execute_result"
    }
   ],
   "source": [
    "ab_vstack"
   ]
  }
 ],
 "metadata": {
  "kernelspec": {
   "display_name": "IGM",
   "language": "python",
   "name": "igm"
  },
  "language_info": {
   "codemirror_mode": {
    "name": "ipython",
    "version": 3
   },
   "file_extension": ".py",
   "mimetype": "text/x-python",
   "name": "python",
   "nbconvert_exporter": "python",
   "pygments_lexer": "ipython3",
   "version": "3.6.13"
  },
  "orig_nbformat": 4
 },
 "nbformat": 4,
 "nbformat_minor": 2
}
