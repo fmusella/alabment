{
 "cells": [
  {
   "cell_type": "code",
   "execution_count": 2,
   "metadata": {},
   "outputs": [],
   "source": [
    "import numpy as np\n",
    "from alabtools.analysis import HssFile"
   ]
  },
  {
   "cell_type": "code",
   "execution_count": 3,
   "metadata": {},
   "outputs": [],
   "source": [
    "# Create an instance of HssFile class and reading the\n",
    "# 'igm-model_mcrb_2.5MB.hss' file with read-only access\n",
    "hss = HssFile('igm-model_mcrb_2.5MB.hss', 'r')"
   ]
  },
  {
   "attachments": {},
   "cell_type": "markdown",
   "metadata": {},
   "source": [
    "Hss is a HDf5 file.\n",
    "\n",
    "There are three main datasets: coordinates, index and genome."
   ]
  },
  {
   "cell_type": "code",
   "execution_count": 8,
   "metadata": {},
   "outputs": [
    {
     "name": "stdout",
     "output_type": "stream",
     "text": [
      "2094\n",
      "100\n"
     ]
    }
   ],
   "source": [
    "# nbead and nstruct are examples of ATTRIBUTES of the HssFile class\n",
    "print(hss.nbead)  # gives the number of beads in the model (for each copy of each chromosome)\n",
    "print(hss.nstruct)  # gives the number of structures in the model"
   ]
  },
  {
   "cell_type": "code",
   "execution_count": 9,
   "metadata": {},
   "outputs": [
    {
     "name": "stdout",
     "output_type": "stream",
     "text": [
      "<class 'numpy.ndarray'>\n",
      "(2094, 100, 3)\n",
      "532.129\n"
     ]
    }
   ],
   "source": [
    "# The coordinates are the first dataset of the HSS file.\n",
    "\n",
    "# We read the coordinates and copy them into a new variable called coords\n",
    "# We do this so that we can modify the coords variable without modifying the original data\n",
    "coords = hss.coordinates\n",
    "\n",
    "print(type(coords))\n",
    "print(coords.shape)  # ndomain, nstruct, 3\n",
    "\n",
    "# Let's access the bead n. 5 in structure n. 10 and print the Y coordinate\n",
    "print(coords[4, 9, 1])  # in nanometers"
   ]
  },
  {
   "cell_type": "code",
   "execution_count": 10,
   "metadata": {},
   "outputs": [
    {
     "name": "stdout",
     "output_type": "stream",
     "text": [
      "<class 'numpy.ndarray'>\n",
      "(2094, 3)\n"
     ]
    }
   ],
   "source": [
    "# Axis collapsing: we are taking the data of a single structure and thus we collapse the second axis\n",
    "coords_1 = coords[:, 0, :]  # coordinates of struct 1\n",
    "print(type(coords_1))\n",
    "print(coords_1.shape)"
   ]
  },
  {
   "cell_type": "code",
   "execution_count": 11,
   "metadata": {},
   "outputs": [
    {
     "name": "stdout",
     "output_type": "stream",
     "text": [
      "<class 'numpy.ndarray'>\n",
      "(2094, 10, 3)\n"
     ]
    }
   ],
   "source": [
    "# Slicing\n",
    "\n",
    "# Let's take the data from structure n.1 to structure n. 10\n",
    "coords_1_to_10 = coords[:, 0:10, :]  # 0 included but 10 excluded\n",
    "print(type(coords_1_to_10))\n",
    "print(coords_1_to_10.shape)"
   ]
  },
  {
   "cell_type": "code",
   "execution_count": 12,
   "metadata": {},
   "outputs": [],
   "source": [
    "# Slicing shortcuts\n",
    "\n",
    "# Slicing from the beginning to a certain index\n",
    "coords_up_to_15 = coords[:, :15, :]  # 0 included but 15 excluded\n",
    "\n",
    "# Slicing from a certain index to the end\n",
    "coords_from_15 = coords[:, 15:, :]  # 15 included"
   ]
  },
  {
   "cell_type": "code",
   "execution_count": 13,
   "metadata": {},
   "outputs": [
    {
     "name": "stdout",
     "output_type": "stream",
     "text": [
      "Distance of bead 1 to center: 2294.61 nm\n"
     ]
    }
   ],
   "source": [
    "# Compute distance of bead 1 in structure 1 to center\n",
    "ctr = np.array([0., 0., 0.])  # the same in all structures\n",
    "bead1_coords = coords[0, 0, :]  # coordinates of bead 1 in structure 1\n",
    "# Compute distance between two points in 3D\n",
    "# we just use the distance formule, which is the Pythagorean theorem in 3D\n",
    "#    dist = sqrt((x1 - x2)^2 + (y1 - y2)^2 + (z1 - z2)^2) \n",
    "#        where (x1, y1, z1) are the coordinates of the first point and (x2, y2, z2) are the coordinates of the second point\n",
    "dst_bead1_ctr = np.sqrt((bead1_coords[0] - ctr[0])**2 + (bead1_coords[1] - ctr[1])**2 + (bead1_coords[2] - ctr[2])**2)\n",
    "print(\"Distance of bead 1 to center: {:.2f} nm\".format(dst_bead1_ctr))"
   ]
  },
  {
   "cell_type": "code",
   "execution_count": 10,
   "metadata": {},
   "outputs": [
    {
     "name": "stdout",
     "output_type": "stream",
     "text": [
      "<class 'numpy.ndarray'>\n",
      "(21,)\n",
      "['chr1' 'chr2' 'chr3' 'chr4' 'chr5' 'chr6' 'chr7' 'chr8' 'chr9' 'chr10'\n",
      " 'chr11' 'chr12' 'chr13' 'chr14' 'chr15' 'chr16' 'chr17' 'chr18' 'chr19'\n",
      " 'chrX' 'chrY']\n"
     ]
    }
   ],
   "source": [
    "# Genome object\n",
    "genome = hss.genome\n",
    "genome_chroms = genome.chroms\n",
    "print(type(genome_chroms))\n",
    "print(genome_chroms.shape)\n",
    "print(genome_chroms)"
   ]
  },
  {
   "cell_type": "code",
   "execution_count": 12,
   "metadata": {},
   "outputs": [
    {
     "name": "stdout",
     "output_type": "stream",
     "text": [
      "<class 'numpy.ndarray'>\n",
      "(21,)\n",
      "[195471971 182113224 160039680 156508116 151834684 149736546 145441459\n",
      " 129401213 124595110 130694993 122082543 120129022 120421639 124902244\n",
      " 104043685  98207768  94987271  90702639  61431566 171031299  91744698]\n",
      "length of chromosome 1: 195471971 bp\n"
     ]
    }
   ],
   "source": [
    "genome_lengths = genome.lengths\n",
    "print(type(genome_lengths))\n",
    "print(genome_lengths.shape)\n",
    "print(genome_lengths)\n",
    "print(\"length of chromosome 1: {} bp\".format(genome_lengths[0]))"
   ]
  },
  {
   "cell_type": "code",
   "execution_count": 13,
   "metadata": {},
   "outputs": [
    {
     "name": "stdout",
     "output_type": "stream",
     "text": [
      "<class 'numpy.ndarray'>\n",
      "(2094,)\n",
      "['chr1' 'chr1' 'chr1' ... 'chr19' 'chr19' 'chr19']\n"
     ]
    }
   ],
   "source": [
    "# Index object\n",
    "index = hss.index\n",
    "index_chroms = index.chromstr\n",
    "print(type(index_chroms))\n",
    "print(index_chroms.shape)\n",
    "print(index_chroms)"
   ]
  },
  {
   "cell_type": "code",
   "execution_count": 14,
   "metadata": {},
   "outputs": [
    {
     "name": "stdout",
     "output_type": "stream",
     "text": [
      "<class 'numpy.ndarray'>\n",
      "(2094,)\n",
      "[       0  2500000  5000000 ... 55000000 57500000 60000000]\n"
     ]
    }
   ],
   "source": [
    "index_start = index.start\n",
    "print(type(index_start))\n",
    "print(index_start.shape)\n",
    "print(index_start)"
   ]
  },
  {
   "cell_type": "code",
   "execution_count": 15,
   "metadata": {},
   "outputs": [
    {
     "name": "stdout",
     "output_type": "stream",
     "text": [
      "<class 'numpy.ndarray'>\n",
      "(2094,)\n",
      "[ 2500000  5000000  7500000 ... 57500000 60000000 62500000]\n"
     ]
    }
   ],
   "source": [
    "index_end = index.end\n",
    "print(type(index_end))\n",
    "print(index_end.shape)\n",
    "print(index_end)"
   ]
  },
  {
   "cell_type": "code",
   "execution_count": 16,
   "metadata": {},
   "outputs": [
    {
     "name": "stdout",
     "output_type": "stream",
     "text": [
      "Is resolution constant? True\n",
      "Resolution: 2500000 bp\n"
     ]
    }
   ],
   "source": [
    "resolution = index_end - index_start\n",
    "print(\"Is resolution constant? {}\".format(np.all(resolution == resolution[0])))\n",
    "print(\"Resolution: {} bp\".format(resolution[0]))"
   ]
  },
  {
   "cell_type": "code",
   "execution_count": null,
   "metadata": {},
   "outputs": [],
   "source": []
  }
 ],
 "metadata": {
  "kernelspec": {
   "display_name": "base",
   "language": "python",
   "name": "python3"
  },
  "language_info": {
   "codemirror_mode": {
    "name": "ipython",
    "version": 3
   },
   "file_extension": ".py",
   "mimetype": "text/x-python",
   "name": "python",
   "nbconvert_exporter": "python",
   "pygments_lexer": "ipython3",
   "version": "3.8.8"
  },
  "orig_nbformat": 4
 },
 "nbformat": 4,
 "nbformat_minor": 2
}
