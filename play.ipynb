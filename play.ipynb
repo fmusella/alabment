{
 "cells": [
  {
   "cell_type": "code",
   "execution_count": 1,
   "metadata": {},
   "outputs": [],
   "source": [
    "import numpy as np\n",
    "from alabtools.analysis import HssFile"
   ]
  },
  {
   "cell_type": "code",
   "execution_count": 2,
   "metadata": {},
   "outputs": [],
   "source": [
    "hss = HssFile('igm-model_mcrb_2.5MB.hss', 'r')"
   ]
  },
  {
   "cell_type": "code",
   "execution_count": 3,
   "metadata": {},
   "outputs": [
    {
     "name": "stdout",
     "output_type": "stream",
     "text": [
      "<class 'numpy.ndarray'>\n",
      "(2094, 100, 3)\n"
     ]
    }
   ],
   "source": [
    "coords = hss.coordinates\n",
    "print(type(coords))\n",
    "print(coords.shape)  # ndomain, nstruct, 3"
   ]
  },
  {
   "cell_type": "code",
   "execution_count": 5,
   "metadata": {},
   "outputs": [
    {
     "name": "stdout",
     "output_type": "stream",
     "text": [
      "<class 'numpy.ndarray'>\n",
      "(2094, 3)\n"
     ]
    }
   ],
   "source": [
    "coords_1 = coords[:, 0, :]  # coordinates of struct 1\n",
    "print(type(coords_1))\n",
    "print(coords_1.shape)"
   ]
  },
  {
   "cell_type": "code",
   "execution_count": 8,
   "metadata": {},
   "outputs": [
    {
     "name": "stdout",
     "output_type": "stream",
     "text": [
      "Distance of bead 1 to center: 1374.98 nm\n"
     ]
    }
   ],
   "source": [
    "# Compute distance of bead 1 to center\n",
    "ctr = np.array([0., 0., 0.])\n",
    "bead1_coords = coords_1[0, :]  # coordinates of bead 1\n",
    "dst_bead1_ctr = np.sqrt((bead1_coords[0] - ctr[0])**2 + (bead1_coords[1] - ctr[1])**2 + (bead1_coords[2] - ctr[2])**2)\n",
    "print(\"Distance of bead 1 to center: {:.2f} nm\".format(dst_bead1_ctr))"
   ]
  },
  {
   "cell_type": "code",
   "execution_count": 10,
   "metadata": {},
   "outputs": [
    {
     "name": "stdout",
     "output_type": "stream",
     "text": [
      "<class 'numpy.ndarray'>\n",
      "(21,)\n",
      "['chr1' 'chr2' 'chr3' 'chr4' 'chr5' 'chr6' 'chr7' 'chr8' 'chr9' 'chr10'\n",
      " 'chr11' 'chr12' 'chr13' 'chr14' 'chr15' 'chr16' 'chr17' 'chr18' 'chr19'\n",
      " 'chrX' 'chrY']\n"
     ]
    }
   ],
   "source": [
    "# Genome object\n",
    "genome = hss.genome\n",
    "genome_chroms = genome.chroms\n",
    "print(type(genome_chroms))\n",
    "print(genome_chroms.shape)\n",
    "print(genome_chroms)"
   ]
  },
  {
   "cell_type": "code",
   "execution_count": 12,
   "metadata": {},
   "outputs": [
    {
     "name": "stdout",
     "output_type": "stream",
     "text": [
      "<class 'numpy.ndarray'>\n",
      "(21,)\n",
      "[195471971 182113224 160039680 156508116 151834684 149736546 145441459\n",
      " 129401213 124595110 130694993 122082543 120129022 120421639 124902244\n",
      " 104043685  98207768  94987271  90702639  61431566 171031299  91744698]\n",
      "length of chromosome 1: 195471971 bp\n"
     ]
    }
   ],
   "source": [
    "genome_lengths = genome.lengths\n",
    "print(type(genome_lengths))\n",
    "print(genome_lengths.shape)\n",
    "print(genome_lengths)\n",
    "print(\"length of chromosome 1: {} bp\".format(genome_lengths[0]))"
   ]
  },
  {
   "cell_type": "code",
   "execution_count": 13,
   "metadata": {},
   "outputs": [
    {
     "name": "stdout",
     "output_type": "stream",
     "text": [
      "<class 'numpy.ndarray'>\n",
      "(2094,)\n",
      "['chr1' 'chr1' 'chr1' ... 'chr19' 'chr19' 'chr19']\n"
     ]
    }
   ],
   "source": [
    "# Index object\n",
    "index = hss.index\n",
    "index_chroms = index.chromstr\n",
    "print(type(index_chroms))\n",
    "print(index_chroms.shape)\n",
    "print(index_chroms)"
   ]
  },
  {
   "cell_type": "code",
   "execution_count": 14,
   "metadata": {},
   "outputs": [
    {
     "name": "stdout",
     "output_type": "stream",
     "text": [
      "<class 'numpy.ndarray'>\n",
      "(2094,)\n",
      "[       0  2500000  5000000 ... 55000000 57500000 60000000]\n"
     ]
    }
   ],
   "source": [
    "index_start = index.start\n",
    "print(type(index_start))\n",
    "print(index_start.shape)\n",
    "print(index_start)"
   ]
  },
  {
   "cell_type": "code",
   "execution_count": 15,
   "metadata": {},
   "outputs": [
    {
     "name": "stdout",
     "output_type": "stream",
     "text": [
      "<class 'numpy.ndarray'>\n",
      "(2094,)\n",
      "[ 2500000  5000000  7500000 ... 57500000 60000000 62500000]\n"
     ]
    }
   ],
   "source": [
    "index_end = index.end\n",
    "print(type(index_end))\n",
    "print(index_end.shape)\n",
    "print(index_end)"
   ]
  },
  {
   "cell_type": "code",
   "execution_count": 16,
   "metadata": {},
   "outputs": [
    {
     "name": "stdout",
     "output_type": "stream",
     "text": [
      "Is resolution constant? True\n",
      "Resolution: 2500000 bp\n"
     ]
    }
   ],
   "source": [
    "resolution = index_end - index_start\n",
    "print(\"Is resolution constant? {}\".format(np.all(resolution == resolution[0])))\n",
    "print(\"Resolution: {} bp\".format(resolution[0]))"
   ]
  },
  {
   "cell_type": "code",
   "execution_count": null,
   "metadata": {},
   "outputs": [],
   "source": []
  }
 ],
 "metadata": {
  "kernelspec": {
   "display_name": "base",
   "language": "python",
   "name": "python3"
  },
  "language_info": {
   "codemirror_mode": {
    "name": "ipython",
    "version": 3
   },
   "file_extension": ".py",
   "mimetype": "text/x-python",
   "name": "python",
   "nbconvert_exporter": "python",
   "pygments_lexer": "ipython3",
   "version": "3.7.3"
  },
  "orig_nbformat": 4
 },
 "nbformat": 4,
 "nbformat_minor": 2
}
